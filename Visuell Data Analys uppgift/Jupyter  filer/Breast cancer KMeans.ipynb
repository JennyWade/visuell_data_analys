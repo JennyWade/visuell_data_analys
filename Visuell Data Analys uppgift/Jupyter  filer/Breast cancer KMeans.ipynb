{
 "cells": [
  {
   "cell_type": "code",
   "execution_count": 2,
   "metadata": {},
   "outputs": [],
   "source": [
    "#import packages\n",
    "import numpy as np\n",
    "import matplotlib.pyplot as plt\n",
    "from sklearn.decomposition import PCA\n",
    "import seaborn as sns\n",
    "from sklearn.cluster import KMeans\n",
    "from sklearn.preprocessing import StandardScaler\n",
    "import pandas as pd\n",
    "from sklearn.cluster import KMeans\n",
    "from sklearn.datasets import load_breast_cancer\n",
    "from sklearn import decomposition\n",
    "from umap import UMAP\n",
    "from sklearn.metrics import silhouette_score\n",
    "from scipy.linalg import eigh\n",
    "from sklearn import metrics\n",
    "import plotly.express as px\n",
    "import plotly.graph_objects as go\n",
    "from IPython.core.interactiveshell import InteractiveShell\n",
    "\n"
   ]
  },
  {
   "cell_type": "markdown",
   "metadata": {},
   "source": [
    "Importing our dataset and converting it to a dataframe"
   ]
  },
  {
   "cell_type": "code",
   "execution_count": 3,
   "metadata": {},
   "outputs": [
    {
     "name": "stdout",
     "output_type": "stream",
     "text": [
      "dict_keys(['data', 'target', 'frame', 'target_names', 'DESCR', 'feature_names', 'filename', 'data_module'])\n"
     ]
    }
   ],
   "source": [
    "data = load_breast_cancer(as_frame=True)\n",
    "print(data.keys())"
   ]
  },
  {
   "cell_type": "code",
   "execution_count": 4,
   "metadata": {},
   "outputs": [],
   "source": [
    "df = pd.DataFrame(np.c_[data['data'], data['target']], columns= np.append(data['feature_names'], ['target']))"
   ]
  },
  {
   "cell_type": "code",
   "execution_count": 4,
   "metadata": {},
   "outputs": [
    {
     "data": {
      "text/html": [
       "<div>\n",
       "<style scoped>\n",
       "    .dataframe tbody tr th:only-of-type {\n",
       "        vertical-align: middle;\n",
       "    }\n",
       "\n",
       "    .dataframe tbody tr th {\n",
       "        vertical-align: top;\n",
       "    }\n",
       "\n",
       "    .dataframe thead th {\n",
       "        text-align: right;\n",
       "    }\n",
       "</style>\n",
       "<table border=\"1\" class=\"dataframe\">\n",
       "  <thead>\n",
       "    <tr style=\"text-align: right;\">\n",
       "      <th></th>\n",
       "      <th>mean radius</th>\n",
       "      <th>mean texture</th>\n",
       "      <th>mean perimeter</th>\n",
       "      <th>mean area</th>\n",
       "      <th>mean smoothness</th>\n",
       "      <th>mean compactness</th>\n",
       "      <th>mean concavity</th>\n",
       "      <th>mean concave points</th>\n",
       "      <th>mean symmetry</th>\n",
       "      <th>mean fractal dimension</th>\n",
       "      <th>...</th>\n",
       "      <th>worst texture</th>\n",
       "      <th>worst perimeter</th>\n",
       "      <th>worst area</th>\n",
       "      <th>worst smoothness</th>\n",
       "      <th>worst compactness</th>\n",
       "      <th>worst concavity</th>\n",
       "      <th>worst concave points</th>\n",
       "      <th>worst symmetry</th>\n",
       "      <th>worst fractal dimension</th>\n",
       "      <th>target</th>\n",
       "    </tr>\n",
       "  </thead>\n",
       "  <tbody>\n",
       "    <tr>\n",
       "      <th>0</th>\n",
       "      <td>17.99</td>\n",
       "      <td>10.38</td>\n",
       "      <td>122.80</td>\n",
       "      <td>1001.0</td>\n",
       "      <td>0.11840</td>\n",
       "      <td>0.27760</td>\n",
       "      <td>0.3001</td>\n",
       "      <td>0.14710</td>\n",
       "      <td>0.2419</td>\n",
       "      <td>0.07871</td>\n",
       "      <td>...</td>\n",
       "      <td>17.33</td>\n",
       "      <td>184.60</td>\n",
       "      <td>2019.0</td>\n",
       "      <td>0.1622</td>\n",
       "      <td>0.6656</td>\n",
       "      <td>0.7119</td>\n",
       "      <td>0.2654</td>\n",
       "      <td>0.4601</td>\n",
       "      <td>0.11890</td>\n",
       "      <td>0.0</td>\n",
       "    </tr>\n",
       "    <tr>\n",
       "      <th>1</th>\n",
       "      <td>20.57</td>\n",
       "      <td>17.77</td>\n",
       "      <td>132.90</td>\n",
       "      <td>1326.0</td>\n",
       "      <td>0.08474</td>\n",
       "      <td>0.07864</td>\n",
       "      <td>0.0869</td>\n",
       "      <td>0.07017</td>\n",
       "      <td>0.1812</td>\n",
       "      <td>0.05667</td>\n",
       "      <td>...</td>\n",
       "      <td>23.41</td>\n",
       "      <td>158.80</td>\n",
       "      <td>1956.0</td>\n",
       "      <td>0.1238</td>\n",
       "      <td>0.1866</td>\n",
       "      <td>0.2416</td>\n",
       "      <td>0.1860</td>\n",
       "      <td>0.2750</td>\n",
       "      <td>0.08902</td>\n",
       "      <td>0.0</td>\n",
       "    </tr>\n",
       "    <tr>\n",
       "      <th>2</th>\n",
       "      <td>19.69</td>\n",
       "      <td>21.25</td>\n",
       "      <td>130.00</td>\n",
       "      <td>1203.0</td>\n",
       "      <td>0.10960</td>\n",
       "      <td>0.15990</td>\n",
       "      <td>0.1974</td>\n",
       "      <td>0.12790</td>\n",
       "      <td>0.2069</td>\n",
       "      <td>0.05999</td>\n",
       "      <td>...</td>\n",
       "      <td>25.53</td>\n",
       "      <td>152.50</td>\n",
       "      <td>1709.0</td>\n",
       "      <td>0.1444</td>\n",
       "      <td>0.4245</td>\n",
       "      <td>0.4504</td>\n",
       "      <td>0.2430</td>\n",
       "      <td>0.3613</td>\n",
       "      <td>0.08758</td>\n",
       "      <td>0.0</td>\n",
       "    </tr>\n",
       "    <tr>\n",
       "      <th>3</th>\n",
       "      <td>11.42</td>\n",
       "      <td>20.38</td>\n",
       "      <td>77.58</td>\n",
       "      <td>386.1</td>\n",
       "      <td>0.14250</td>\n",
       "      <td>0.28390</td>\n",
       "      <td>0.2414</td>\n",
       "      <td>0.10520</td>\n",
       "      <td>0.2597</td>\n",
       "      <td>0.09744</td>\n",
       "      <td>...</td>\n",
       "      <td>26.50</td>\n",
       "      <td>98.87</td>\n",
       "      <td>567.7</td>\n",
       "      <td>0.2098</td>\n",
       "      <td>0.8663</td>\n",
       "      <td>0.6869</td>\n",
       "      <td>0.2575</td>\n",
       "      <td>0.6638</td>\n",
       "      <td>0.17300</td>\n",
       "      <td>0.0</td>\n",
       "    </tr>\n",
       "    <tr>\n",
       "      <th>4</th>\n",
       "      <td>20.29</td>\n",
       "      <td>14.34</td>\n",
       "      <td>135.10</td>\n",
       "      <td>1297.0</td>\n",
       "      <td>0.10030</td>\n",
       "      <td>0.13280</td>\n",
       "      <td>0.1980</td>\n",
       "      <td>0.10430</td>\n",
       "      <td>0.1809</td>\n",
       "      <td>0.05883</td>\n",
       "      <td>...</td>\n",
       "      <td>16.67</td>\n",
       "      <td>152.20</td>\n",
       "      <td>1575.0</td>\n",
       "      <td>0.1374</td>\n",
       "      <td>0.2050</td>\n",
       "      <td>0.4000</td>\n",
       "      <td>0.1625</td>\n",
       "      <td>0.2364</td>\n",
       "      <td>0.07678</td>\n",
       "      <td>0.0</td>\n",
       "    </tr>\n",
       "  </tbody>\n",
       "</table>\n",
       "<p>5 rows × 31 columns</p>\n",
       "</div>"
      ],
      "text/plain": [
       "   mean radius  mean texture  mean perimeter  mean area  mean smoothness  \\\n",
       "0        17.99         10.38          122.80     1001.0          0.11840   \n",
       "1        20.57         17.77          132.90     1326.0          0.08474   \n",
       "2        19.69         21.25          130.00     1203.0          0.10960   \n",
       "3        11.42         20.38           77.58      386.1          0.14250   \n",
       "4        20.29         14.34          135.10     1297.0          0.10030   \n",
       "\n",
       "   mean compactness  mean concavity  mean concave points  mean symmetry  \\\n",
       "0           0.27760          0.3001              0.14710         0.2419   \n",
       "1           0.07864          0.0869              0.07017         0.1812   \n",
       "2           0.15990          0.1974              0.12790         0.2069   \n",
       "3           0.28390          0.2414              0.10520         0.2597   \n",
       "4           0.13280          0.1980              0.10430         0.1809   \n",
       "\n",
       "   mean fractal dimension  ...  worst texture  worst perimeter  worst area  \\\n",
       "0                 0.07871  ...          17.33           184.60      2019.0   \n",
       "1                 0.05667  ...          23.41           158.80      1956.0   \n",
       "2                 0.05999  ...          25.53           152.50      1709.0   \n",
       "3                 0.09744  ...          26.50            98.87       567.7   \n",
       "4                 0.05883  ...          16.67           152.20      1575.0   \n",
       "\n",
       "   worst smoothness  worst compactness  worst concavity  worst concave points  \\\n",
       "0            0.1622             0.6656           0.7119                0.2654   \n",
       "1            0.1238             0.1866           0.2416                0.1860   \n",
       "2            0.1444             0.4245           0.4504                0.2430   \n",
       "3            0.2098             0.8663           0.6869                0.2575   \n",
       "4            0.1374             0.2050           0.4000                0.1625   \n",
       "\n",
       "   worst symmetry  worst fractal dimension  target  \n",
       "0          0.4601                  0.11890     0.0  \n",
       "1          0.2750                  0.08902     0.0  \n",
       "2          0.3613                  0.08758     0.0  \n",
       "3          0.6638                  0.17300     0.0  \n",
       "4          0.2364                  0.07678     0.0  \n",
       "\n",
       "[5 rows x 31 columns]"
      ]
     },
     "execution_count": 4,
     "metadata": {},
     "output_type": "execute_result"
    }
   ],
   "source": [
    "df.head()"
   ]
  },
  {
   "cell_type": "code",
   "execution_count": 5,
   "metadata": {},
   "outputs": [
    {
     "data": {
      "text/plain": [
       "(569, 31)"
      ]
     },
     "execution_count": 5,
     "metadata": {},
     "output_type": "execute_result"
    }
   ],
   "source": [
    "df.shape"
   ]
  },
  {
   "cell_type": "markdown",
   "metadata": {},
   "source": [
    "Standardising our data"
   ]
  },
  {
   "cell_type": "code",
   "execution_count": 7,
   "metadata": {},
   "outputs": [
    {
     "data": {
      "text/plain": [
       "(569, 31)"
      ]
     },
     "execution_count": 7,
     "metadata": {},
     "output_type": "execute_result"
    }
   ],
   "source": [
    "data = df[0:569]\n",
    "data = np.asarray(data)\n",
    "data.shape"
   ]
  },
  {
   "cell_type": "code",
   "execution_count": 8,
   "metadata": {},
   "outputs": [],
   "source": [
    "scaler = StandardScaler()\n",
    "scaler.fit(data)\n",
    "scaled_data = scaler.transform(data)"
   ]
  },
  {
   "cell_type": "markdown",
   "metadata": {},
   "source": [
    "Using the Elbow method to find the best number of clusters to use. \n",
    "Step 1. create function where we check the inertia for a range of clusters (1-10)\n",
    "Step 2. plot our results and chose our number of clusters"
   ]
  },
  {
   "cell_type": "code",
   "execution_count": 9,
   "metadata": {},
   "outputs": [],
   "source": [
    "no_clusters = []\n",
    "K = range(1,10)\n",
    "for k in K:\n",
    "    kmean = KMeans(n_clusters=k)\n",
    "    kmean.fit(scaled_data)\n",
    "    no_clusters.append(kmean.inertia_)"
   ]
  },
  {
   "cell_type": "code",
   "execution_count": 10,
   "metadata": {},
   "outputs": [
    {
     "data": {
      "application/vnd.plotly.v1+json": {
       "config": {
        "plotlyServerURL": "https://plot.ly"
       },
       "data": [
        {
         "hovertemplate": "x=%{x}<br>y=%{y}<extra></extra>",
         "legendgroup": "",
         "line": {
          "color": "#636efa",
          "dash": "solid"
         },
         "marker": {
          "symbol": "circle"
         },
         "mode": "lines",
         "name": "",
         "orientation": "v",
         "showlegend": false,
         "type": "scatter",
         "x": [
          1,
          2,
          3,
          4,
          5,
          6,
          7,
          8,
          9
         ],
         "xaxis": "x",
         "y": [
          17639,
          11767.941709101626,
          10279.443320442053,
          9413.767052295496,
          8853.90229426826,
          8080.113067040285,
          7656.500300388793,
          7329.462203092311,
          6941.334381597629
         ],
         "yaxis": "y"
        }
       ],
       "layout": {
        "legend": {
         "tracegroupgap": 0
        },
        "margin": {
         "t": 60
        },
        "template": {
         "data": {
          "bar": [
           {
            "error_x": {
             "color": "#2a3f5f"
            },
            "error_y": {
             "color": "#2a3f5f"
            },
            "marker": {
             "line": {
              "color": "#E5ECF6",
              "width": 0.5
             },
             "pattern": {
              "fillmode": "overlay",
              "size": 10,
              "solidity": 0.2
             }
            },
            "type": "bar"
           }
          ],
          "barpolar": [
           {
            "marker": {
             "line": {
              "color": "#E5ECF6",
              "width": 0.5
             },
             "pattern": {
              "fillmode": "overlay",
              "size": 10,
              "solidity": 0.2
             }
            },
            "type": "barpolar"
           }
          ],
          "carpet": [
           {
            "aaxis": {
             "endlinecolor": "#2a3f5f",
             "gridcolor": "white",
             "linecolor": "white",
             "minorgridcolor": "white",
             "startlinecolor": "#2a3f5f"
            },
            "baxis": {
             "endlinecolor": "#2a3f5f",
             "gridcolor": "white",
             "linecolor": "white",
             "minorgridcolor": "white",
             "startlinecolor": "#2a3f5f"
            },
            "type": "carpet"
           }
          ],
          "choropleth": [
           {
            "colorbar": {
             "outlinewidth": 0,
             "ticks": ""
            },
            "type": "choropleth"
           }
          ],
          "contour": [
           {
            "colorbar": {
             "outlinewidth": 0,
             "ticks": ""
            },
            "colorscale": [
             [
              0,
              "#0d0887"
             ],
             [
              0.1111111111111111,
              "#46039f"
             ],
             [
              0.2222222222222222,
              "#7201a8"
             ],
             [
              0.3333333333333333,
              "#9c179e"
             ],
             [
              0.4444444444444444,
              "#bd3786"
             ],
             [
              0.5555555555555556,
              "#d8576b"
             ],
             [
              0.6666666666666666,
              "#ed7953"
             ],
             [
              0.7777777777777778,
              "#fb9f3a"
             ],
             [
              0.8888888888888888,
              "#fdca26"
             ],
             [
              1,
              "#f0f921"
             ]
            ],
            "type": "contour"
           }
          ],
          "contourcarpet": [
           {
            "colorbar": {
             "outlinewidth": 0,
             "ticks": ""
            },
            "type": "contourcarpet"
           }
          ],
          "heatmap": [
           {
            "colorbar": {
             "outlinewidth": 0,
             "ticks": ""
            },
            "colorscale": [
             [
              0,
              "#0d0887"
             ],
             [
              0.1111111111111111,
              "#46039f"
             ],
             [
              0.2222222222222222,
              "#7201a8"
             ],
             [
              0.3333333333333333,
              "#9c179e"
             ],
             [
              0.4444444444444444,
              "#bd3786"
             ],
             [
              0.5555555555555556,
              "#d8576b"
             ],
             [
              0.6666666666666666,
              "#ed7953"
             ],
             [
              0.7777777777777778,
              "#fb9f3a"
             ],
             [
              0.8888888888888888,
              "#fdca26"
             ],
             [
              1,
              "#f0f921"
             ]
            ],
            "type": "heatmap"
           }
          ],
          "heatmapgl": [
           {
            "colorbar": {
             "outlinewidth": 0,
             "ticks": ""
            },
            "colorscale": [
             [
              0,
              "#0d0887"
             ],
             [
              0.1111111111111111,
              "#46039f"
             ],
             [
              0.2222222222222222,
              "#7201a8"
             ],
             [
              0.3333333333333333,
              "#9c179e"
             ],
             [
              0.4444444444444444,
              "#bd3786"
             ],
             [
              0.5555555555555556,
              "#d8576b"
             ],
             [
              0.6666666666666666,
              "#ed7953"
             ],
             [
              0.7777777777777778,
              "#fb9f3a"
             ],
             [
              0.8888888888888888,
              "#fdca26"
             ],
             [
              1,
              "#f0f921"
             ]
            ],
            "type": "heatmapgl"
           }
          ],
          "histogram": [
           {
            "marker": {
             "pattern": {
              "fillmode": "overlay",
              "size": 10,
              "solidity": 0.2
             }
            },
            "type": "histogram"
           }
          ],
          "histogram2d": [
           {
            "colorbar": {
             "outlinewidth": 0,
             "ticks": ""
            },
            "colorscale": [
             [
              0,
              "#0d0887"
             ],
             [
              0.1111111111111111,
              "#46039f"
             ],
             [
              0.2222222222222222,
              "#7201a8"
             ],
             [
              0.3333333333333333,
              "#9c179e"
             ],
             [
              0.4444444444444444,
              "#bd3786"
             ],
             [
              0.5555555555555556,
              "#d8576b"
             ],
             [
              0.6666666666666666,
              "#ed7953"
             ],
             [
              0.7777777777777778,
              "#fb9f3a"
             ],
             [
              0.8888888888888888,
              "#fdca26"
             ],
             [
              1,
              "#f0f921"
             ]
            ],
            "type": "histogram2d"
           }
          ],
          "histogram2dcontour": [
           {
            "colorbar": {
             "outlinewidth": 0,
             "ticks": ""
            },
            "colorscale": [
             [
              0,
              "#0d0887"
             ],
             [
              0.1111111111111111,
              "#46039f"
             ],
             [
              0.2222222222222222,
              "#7201a8"
             ],
             [
              0.3333333333333333,
              "#9c179e"
             ],
             [
              0.4444444444444444,
              "#bd3786"
             ],
             [
              0.5555555555555556,
              "#d8576b"
             ],
             [
              0.6666666666666666,
              "#ed7953"
             ],
             [
              0.7777777777777778,
              "#fb9f3a"
             ],
             [
              0.8888888888888888,
              "#fdca26"
             ],
             [
              1,
              "#f0f921"
             ]
            ],
            "type": "histogram2dcontour"
           }
          ],
          "mesh3d": [
           {
            "colorbar": {
             "outlinewidth": 0,
             "ticks": ""
            },
            "type": "mesh3d"
           }
          ],
          "parcoords": [
           {
            "line": {
             "colorbar": {
              "outlinewidth": 0,
              "ticks": ""
             }
            },
            "type": "parcoords"
           }
          ],
          "pie": [
           {
            "automargin": true,
            "type": "pie"
           }
          ],
          "scatter": [
           {
            "fillpattern": {
             "fillmode": "overlay",
             "size": 10,
             "solidity": 0.2
            },
            "type": "scatter"
           }
          ],
          "scatter3d": [
           {
            "line": {
             "colorbar": {
              "outlinewidth": 0,
              "ticks": ""
             }
            },
            "marker": {
             "colorbar": {
              "outlinewidth": 0,
              "ticks": ""
             }
            },
            "type": "scatter3d"
           }
          ],
          "scattercarpet": [
           {
            "marker": {
             "colorbar": {
              "outlinewidth": 0,
              "ticks": ""
             }
            },
            "type": "scattercarpet"
           }
          ],
          "scattergeo": [
           {
            "marker": {
             "colorbar": {
              "outlinewidth": 0,
              "ticks": ""
             }
            },
            "type": "scattergeo"
           }
          ],
          "scattergl": [
           {
            "marker": {
             "colorbar": {
              "outlinewidth": 0,
              "ticks": ""
             }
            },
            "type": "scattergl"
           }
          ],
          "scattermapbox": [
           {
            "marker": {
             "colorbar": {
              "outlinewidth": 0,
              "ticks": ""
             }
            },
            "type": "scattermapbox"
           }
          ],
          "scatterpolar": [
           {
            "marker": {
             "colorbar": {
              "outlinewidth": 0,
              "ticks": ""
             }
            },
            "type": "scatterpolar"
           }
          ],
          "scatterpolargl": [
           {
            "marker": {
             "colorbar": {
              "outlinewidth": 0,
              "ticks": ""
             }
            },
            "type": "scatterpolargl"
           }
          ],
          "scatterternary": [
           {
            "marker": {
             "colorbar": {
              "outlinewidth": 0,
              "ticks": ""
             }
            },
            "type": "scatterternary"
           }
          ],
          "surface": [
           {
            "colorbar": {
             "outlinewidth": 0,
             "ticks": ""
            },
            "colorscale": [
             [
              0,
              "#0d0887"
             ],
             [
              0.1111111111111111,
              "#46039f"
             ],
             [
              0.2222222222222222,
              "#7201a8"
             ],
             [
              0.3333333333333333,
              "#9c179e"
             ],
             [
              0.4444444444444444,
              "#bd3786"
             ],
             [
              0.5555555555555556,
              "#d8576b"
             ],
             [
              0.6666666666666666,
              "#ed7953"
             ],
             [
              0.7777777777777778,
              "#fb9f3a"
             ],
             [
              0.8888888888888888,
              "#fdca26"
             ],
             [
              1,
              "#f0f921"
             ]
            ],
            "type": "surface"
           }
          ],
          "table": [
           {
            "cells": {
             "fill": {
              "color": "#EBF0F8"
             },
             "line": {
              "color": "white"
             }
            },
            "header": {
             "fill": {
              "color": "#C8D4E3"
             },
             "line": {
              "color": "white"
             }
            },
            "type": "table"
           }
          ]
         },
         "layout": {
          "annotationdefaults": {
           "arrowcolor": "#2a3f5f",
           "arrowhead": 0,
           "arrowwidth": 1
          },
          "autotypenumbers": "strict",
          "coloraxis": {
           "colorbar": {
            "outlinewidth": 0,
            "ticks": ""
           }
          },
          "colorscale": {
           "diverging": [
            [
             0,
             "#8e0152"
            ],
            [
             0.1,
             "#c51b7d"
            ],
            [
             0.2,
             "#de77ae"
            ],
            [
             0.3,
             "#f1b6da"
            ],
            [
             0.4,
             "#fde0ef"
            ],
            [
             0.5,
             "#f7f7f7"
            ],
            [
             0.6,
             "#e6f5d0"
            ],
            [
             0.7,
             "#b8e186"
            ],
            [
             0.8,
             "#7fbc41"
            ],
            [
             0.9,
             "#4d9221"
            ],
            [
             1,
             "#276419"
            ]
           ],
           "sequential": [
            [
             0,
             "#0d0887"
            ],
            [
             0.1111111111111111,
             "#46039f"
            ],
            [
             0.2222222222222222,
             "#7201a8"
            ],
            [
             0.3333333333333333,
             "#9c179e"
            ],
            [
             0.4444444444444444,
             "#bd3786"
            ],
            [
             0.5555555555555556,
             "#d8576b"
            ],
            [
             0.6666666666666666,
             "#ed7953"
            ],
            [
             0.7777777777777778,
             "#fb9f3a"
            ],
            [
             0.8888888888888888,
             "#fdca26"
            ],
            [
             1,
             "#f0f921"
            ]
           ],
           "sequentialminus": [
            [
             0,
             "#0d0887"
            ],
            [
             0.1111111111111111,
             "#46039f"
            ],
            [
             0.2222222222222222,
             "#7201a8"
            ],
            [
             0.3333333333333333,
             "#9c179e"
            ],
            [
             0.4444444444444444,
             "#bd3786"
            ],
            [
             0.5555555555555556,
             "#d8576b"
            ],
            [
             0.6666666666666666,
             "#ed7953"
            ],
            [
             0.7777777777777778,
             "#fb9f3a"
            ],
            [
             0.8888888888888888,
             "#fdca26"
            ],
            [
             1,
             "#f0f921"
            ]
           ]
          },
          "colorway": [
           "#636efa",
           "#EF553B",
           "#00cc96",
           "#ab63fa",
           "#FFA15A",
           "#19d3f3",
           "#FF6692",
           "#B6E880",
           "#FF97FF",
           "#FECB52"
          ],
          "font": {
           "color": "#2a3f5f"
          },
          "geo": {
           "bgcolor": "white",
           "lakecolor": "white",
           "landcolor": "#E5ECF6",
           "showlakes": true,
           "showland": true,
           "subunitcolor": "white"
          },
          "hoverlabel": {
           "align": "left"
          },
          "hovermode": "closest",
          "mapbox": {
           "style": "light"
          },
          "paper_bgcolor": "white",
          "plot_bgcolor": "#E5ECF6",
          "polar": {
           "angularaxis": {
            "gridcolor": "white",
            "linecolor": "white",
            "ticks": ""
           },
           "bgcolor": "#E5ECF6",
           "radialaxis": {
            "gridcolor": "white",
            "linecolor": "white",
            "ticks": ""
           }
          },
          "scene": {
           "xaxis": {
            "backgroundcolor": "#E5ECF6",
            "gridcolor": "white",
            "gridwidth": 2,
            "linecolor": "white",
            "showbackground": true,
            "ticks": "",
            "zerolinecolor": "white"
           },
           "yaxis": {
            "backgroundcolor": "#E5ECF6",
            "gridcolor": "white",
            "gridwidth": 2,
            "linecolor": "white",
            "showbackground": true,
            "ticks": "",
            "zerolinecolor": "white"
           },
           "zaxis": {
            "backgroundcolor": "#E5ECF6",
            "gridcolor": "white",
            "gridwidth": 2,
            "linecolor": "white",
            "showbackground": true,
            "ticks": "",
            "zerolinecolor": "white"
           }
          },
          "shapedefaults": {
           "line": {
            "color": "#2a3f5f"
           }
          },
          "ternary": {
           "aaxis": {
            "gridcolor": "white",
            "linecolor": "white",
            "ticks": ""
           },
           "baxis": {
            "gridcolor": "white",
            "linecolor": "white",
            "ticks": ""
           },
           "bgcolor": "#E5ECF6",
           "caxis": {
            "gridcolor": "white",
            "linecolor": "white",
            "ticks": ""
           }
          },
          "title": {
           "x": 0.05
          },
          "xaxis": {
           "automargin": true,
           "gridcolor": "white",
           "linecolor": "white",
           "ticks": "",
           "title": {
            "standoff": 15
           },
           "zerolinecolor": "white",
           "zerolinewidth": 2
          },
          "yaxis": {
           "automargin": true,
           "gridcolor": "white",
           "linecolor": "white",
           "ticks": "",
           "title": {
            "standoff": 15
           },
           "zerolinecolor": "white",
           "zerolinewidth": 2
          }
         }
        },
        "xaxis": {
         "anchor": "y",
         "domain": [
          0,
          1
         ],
         "title": {
          "text": "x"
         }
        },
        "yaxis": {
         "anchor": "x",
         "domain": [
          0,
          1
         ],
         "title": {
          "text": "y"
         }
        }
       }
      }
     },
     "metadata": {},
     "output_type": "display_data"
    }
   ],
   "source": [
    "fig = px.line(x=K, y=no_clusters)\n",
    "fig.show()"
   ]
  },
  {
   "cell_type": "code",
   "execution_count": 29,
   "metadata": {},
   "outputs": [
    {
     "data": {
      "image/png": "[encoded data removed]",
      "text/plain": [
       "<Figure size 720x360 with 1 Axes>"
      ]
     },
     "metadata": {
      "needs_background": "light"
     },
     "output_type": "display_data"
    }
   ],
   "source": [
    "plt.figure(figsize=(10,5))\n",
    "plt.plot(K, no_clusters)\n",
    "plt.show()"
   ]
  },
  {
   "cell_type": "markdown",
   "metadata": {},
   "source": [
    "Plotting the data with and without KMeans"
   ]
  },
  {
   "cell_type": "code",
   "execution_count": 11,
   "metadata": {},
   "outputs": [],
   "source": [
    "model = KMeans(n_clusters=3)\n",
    "model.fit(scaled_data)\n",
    "labels = model.predict(scaled_data)"
   ]
  },
  {
   "cell_type": "code",
   "execution_count": 13,
   "metadata": {},
   "outputs": [
    {
     "data": {
      "text/plain": [
       "Text(0.5, 1.0, 'With KMeans')"
      ]
     },
     "execution_count": 13,
     "metadata": {},
     "output_type": "execute_result"
    },
    {
     "data": {
      "image/png": "[encoded data removed]",
      "text/plain": [
       "<Figure size 1152x576 with 2 Axes>"
      ]
     },
     "metadata": {
      "needs_background": "light"
     },
     "output_type": "display_data"
    }
   ],
   "source": [
    "x1 = scaled_data[:,0]\n",
    "y1 = scaled_data[:,1]\n",
    "x2 = scaled_data[:,0]\n",
    "y2 = scaled_data[:,1]\n",
    "fig, ax = plt.subplots(1, 2, figsize=(16,8))\n",
    "ax[0].scatter(x2, y2, c=df['target'], cmap=plt.cm.Set1)\n",
    "ax[1].scatter(x1, y1, c=labels)\n",
    "ax[0].set_title('Without KMeans')\n",
    "ax[1].set_title('With KMeans')"
   ]
  },
  {
   "cell_type": "markdown",
   "metadata": {},
   "source": [
    "We can se that we've got a few more overlapping datapoints without KMeans"
   ]
  },
  {
   "cell_type": "markdown",
   "metadata": {},
   "source": [
    "Plotting with UMAP"
   ]
  },
  {
   "cell_type": "code",
   "execution_count": 14,
   "metadata": {},
   "outputs": [],
   "source": [
    "umap = UMAP()\n",
    "umap_fitted = umap.fit_transform(scaled_data)"
   ]
  },
  {
   "cell_type": "code",
   "execution_count": 15,
   "metadata": {},
   "outputs": [
    {
     "data": {
      "image/png": "[encoded data removed]",
      "text/plain": [
       "<Figure size 432x288 with 1 Axes>"
      ]
     },
     "metadata": {
      "needs_background": "light"
     },
     "output_type": "display_data"
    }
   ],
   "source": [
    "plt.scatter(umap_fitted[:,0], umap_fitted[:,1], c=labels)\n",
    "plt.show()"
   ]
  },
  {
   "cell_type": "markdown",
   "metadata": {},
   "source": [
    "PCA - optimising our data.\n",
    "Starting with 31 components as it is the number of dimension in the dataframe (569, 31)"
   ]
  },
  {
   "cell_type": "code",
   "execution_count": 14,
   "metadata": {},
   "outputs": [
    {
     "data": {
      "text/plain": [
       "PCA(n_components=31)"
      ]
     },
     "execution_count": 14,
     "metadata": {},
     "output_type": "execute_result"
    }
   ],
   "source": [
    "pca_full_df = PCA(n_components=31)\n",
    "pca_full_df.fit(scaled_data)"
   ]
  },
  {
   "cell_type": "markdown",
   "metadata": {},
   "source": [
    "Reviewing the variance ratio for our components in order to chose the best number."
   ]
  },
  {
   "cell_type": "code",
   "execution_count": 45,
   "metadata": {},
   "outputs": [
    {
     "data": {
      "application/vnd.plotly.v1+json": {
       "config": {
        "plotlyServerURL": "https://plot.ly"
       },
       "data": [
        {
         "hovertemplate": "variable=0<br>index=%{x}<br>value=%{y}<extra></extra>",
         "legendgroup": "0",
         "line": {
          "color": "#636efa",
          "dash": "solid"
         },
         "marker": {
          "symbol": "circle"
         },
         "mode": "lines",
         "name": "0",
         "orientation": "v",
         "showlegend": true,
         "type": "scatter",
         "x": [
          0,
          1,
          2,
          3,
          4,
          5,
          6,
          7,
          8,
          9,
          10,
          11,
          12,
          13,
          14,
          15,
          16,
          17,
          18,
          19,
          20,
          21,
          22,
          23,
          24,
          25,
          26,
          27,
          28,
          29,
          30
         ],
         "xaxis": "x",
         "y": [
          0.4489603531322385,
          0.6336813909409859,
          0.725515245245943,
          0.7899785724869539,
          0.8434972363348019,
          0.8824491039657135,
          0.9045368186268257,
          0.9201773166300168,
          0.9336255369602384,
          0.9449446865634289,
          0.9547787315763361,
          0.9641653717472506,
          0.972585062756256,
          0.9794326611555972,
          0.9842254412869369,
          0.9870693948958523,
          0.9896455294957536,
          0.9915498949973756,
          0.9932099565503075,
          0.994765309734406,
          0.9957558348577645,
          0.9967083074683657,
          0.9975903935143725,
          0.9983737352075966,
          0.9989399356705755,
          0.9994390756013734,
          0.9996989512044964,
          0.9999205554601768,
          0.99997179634019,
          0.9999957214612731,
          0.9999999999999999
         ],
         "yaxis": "y"
        }
       ],
       "layout": {
        "legend": {
         "title": {
          "text": "variable"
         },
         "tracegroupgap": 0
        },
        "margin": {
         "t": 60
        },
        "template": {
         "data": {
          "bar": [
           {
            "error_x": {
             "color": "#2a3f5f"
            },
            "error_y": {
             "color": "#2a3f5f"
            },
            "marker": {
             "line": {
              "color": "#E5ECF6",
              "width": 0.5
             },
             "pattern": {
              "fillmode": "overlay",
              "size": 10,
              "solidity": 0.2
             }
            },
            "type": "bar"
           }
          ],
          "barpolar": [
           {
            "marker": {
             "line": {
              "color": "#E5ECF6",
              "width": 0.5
             },
             "pattern": {
              "fillmode": "overlay",
              "size": 10,
              "solidity": 0.2
             }
            },
            "type": "barpolar"
           }
          ],
          "carpet": [
           {
            "aaxis": {
             "endlinecolor": "#2a3f5f",
             "gridcolor": "white",
             "linecolor": "white",
             "minorgridcolor": "white",
             "startlinecolor": "#2a3f5f"
            },
            "baxis": {
             "endlinecolor": "#2a3f5f",
             "gridcolor": "white",
             "linecolor": "white",
             "minorgridcolor": "white",
             "startlinecolor": "#2a3f5f"
            },
            "type": "carpet"
           }
          ],
          "choropleth": [
           {
            "colorbar": {
             "outlinewidth": 0,
             "ticks": ""
            },
            "type": "choropleth"
           }
          ],
          "contour": [
           {
            "colorbar": {
             "outlinewidth": 0,
             "ticks": ""
            },
            "colorscale": [
             [
              0,
              "#0d0887"
             ],
             [
              0.1111111111111111,
              "#46039f"
             ],
             [
              0.2222222222222222,
              "#7201a8"
             ],
             [
              0.3333333333333333,
              "#9c179e"
             ],
             [
              0.4444444444444444,
              "#bd3786"
             ],
             [
              0.5555555555555556,
              "#d8576b"
             ],
             [
              0.6666666666666666,
              "#ed7953"
             ],
             [
              0.7777777777777778,
              "#fb9f3a"
             ],
             [
              0.8888888888888888,
              "#fdca26"
             ],
             [
              1,
              "#f0f921"
             ]
            ],
            "type": "contour"
           }
          ],
          "contourcarpet": [
           {
            "colorbar": {
             "outlinewidth": 0,
             "ticks": ""
            },
            "type": "contourcarpet"
           }
          ],
          "heatmap": [
           {
            "colorbar": {
             "outlinewidth": 0,
             "ticks": ""
            },
            "colorscale": [
             [
              0,
              "#0d0887"
             ],
             [
              0.1111111111111111,
              "#46039f"
             ],
             [
              0.2222222222222222,
              "#7201a8"
             ],
             [
              0.3333333333333333,
              "#9c179e"
             ],
             [
              0.4444444444444444,
              "#bd3786"
             ],
             [
              0.5555555555555556,
              "#d8576b"
             ],
             [
              0.6666666666666666,
              "#ed7953"
             ],
             [
              0.7777777777777778,
              "#fb9f3a"
             ],
             [
              0.8888888888888888,
              "#fdca26"
             ],
             [
              1,
              "#f0f921"
             ]
            ],
            "type": "heatmap"
           }
          ],
          "heatmapgl": [
           {
            "colorbar": {
             "outlinewidth": 0,
             "ticks": ""
            },
            "colorscale": [
             [
              0,
              "#0d0887"
             ],
             [
              0.1111111111111111,
              "#46039f"
             ],
             [
              0.2222222222222222,
              "#7201a8"
             ],
             [
              0.3333333333333333,
              "#9c179e"
             ],
             [
              0.4444444444444444,
              "#bd3786"
             ],
             [
              0.5555555555555556,
              "#d8576b"
             ],
             [
              0.6666666666666666,
              "#ed7953"
             ],
             [
              0.7777777777777778,
              "#fb9f3a"
             ],
             [
              0.8888888888888888,
              "#fdca26"
             ],
             [
              1,
              "#f0f921"
             ]
            ],
            "type": "heatmapgl"
           }
          ],
          "histogram": [
           {
            "marker": {
             "pattern": {
              "fillmode": "overlay",
              "size": 10,
              "solidity": 0.2
             }
            },
            "type": "histogram"
           }
          ],
          "histogram2d": [
           {
            "colorbar": {
             "outlinewidth": 0,
             "ticks": ""
            },
            "colorscale": [
             [
              0,
              "#0d0887"
             ],
             [
              0.1111111111111111,
              "#46039f"
             ],
             [
              0.2222222222222222,
              "#7201a8"
             ],
             [
              0.3333333333333333,
              "#9c179e"
             ],
             [
              0.4444444444444444,
              "#bd3786"
             ],
             [
              0.5555555555555556,
              "#d8576b"
             ],
             [
              0.6666666666666666,
              "#ed7953"
             ],
             [
              0.7777777777777778,
              "#fb9f3a"
             ],
             [
              0.8888888888888888,
              "#fdca26"
             ],
             [
              1,
              "#f0f921"
             ]
            ],
            "type": "histogram2d"
           }
          ],
          "histogram2dcontour": [
           {
            "colorbar": {
             "outlinewidth": 0,
             "ticks": ""
            },
            "colorscale": [
             [
              0,
              "#0d0887"
             ],
             [
              0.1111111111111111,
              "#46039f"
             ],
             [
              0.2222222222222222,
              "#7201a8"
             ],
             [
              0.3333333333333333,
              "#9c179e"
             ],
             [
              0.4444444444444444,
              "#bd3786"
             ],
             [
              0.5555555555555556,
              "#d8576b"
             ],
             [
              0.6666666666666666,
              "#ed7953"
             ],
             [
              0.7777777777777778,
              "#fb9f3a"
             ],
             [
              0.8888888888888888,
              "#fdca26"
             ],
             [
              1,
              "#f0f921"
             ]
            ],
            "type": "histogram2dcontour"
           }
          ],
          "mesh3d": [
           {
            "colorbar": {
             "outlinewidth": 0,
             "ticks": ""
            },
            "type": "mesh3d"
           }
          ],
          "parcoords": [
           {
            "line": {
             "colorbar": {
              "outlinewidth": 0,
              "ticks": ""
             }
            },
            "type": "parcoords"
           }
          ],
          "pie": [
           {
            "automargin": true,
            "type": "pie"
           }
          ],
          "scatter": [
           {
            "fillpattern": {
             "fillmode": "overlay",
             "size": 10,
             "solidity": 0.2
            },
            "type": "scatter"
           }
          ],
          "scatter3d": [
           {
            "line": {
             "colorbar": {
              "outlinewidth": 0,
              "ticks": ""
             }
            },
            "marker": {
             "colorbar": {
              "outlinewidth": 0,
              "ticks": ""
             }
            },
            "type": "scatter3d"
           }
          ],
          "scattercarpet": [
           {
            "marker": {
             "colorbar": {
              "outlinewidth": 0,
              "ticks": ""
             }
            },
            "type": "scattercarpet"
           }
          ],
          "scattergeo": [
           {
            "marker": {
             "colorbar": {
              "outlinewidth": 0,
              "ticks": ""
             }
            },
            "type": "scattergeo"
           }
          ],
          "scattergl": [
           {
            "marker": {
             "colorbar": {
              "outlinewidth": 0,
              "ticks": ""
             }
            },
            "type": "scattergl"
           }
          ],
          "scattermapbox": [
           {
            "marker": {
             "colorbar": {
              "outlinewidth": 0,
              "ticks": ""
             }
            },
            "type": "scattermapbox"
           }
          ],
          "scatterpolar": [
           {
            "marker": {
             "colorbar": {
              "outlinewidth": 0,
              "ticks": ""
             }
            },
            "type": "scatterpolar"
           }
          ],
          "scatterpolargl": [
           {
            "marker": {
             "colorbar": {
              "outlinewidth": 0,
              "ticks": ""
             }
            },
            "type": "scatterpolargl"
           }
          ],
          "scatterternary": [
           {
            "marker": {
             "colorbar": {
              "outlinewidth": 0,
              "ticks": ""
             }
            },
            "type": "scatterternary"
           }
          ],
          "surface": [
           {
            "colorbar": {
             "outlinewidth": 0,
             "ticks": ""
            },
            "colorscale": [
             [
              0,
              "#0d0887"
             ],
             [
              0.1111111111111111,
              "#46039f"
             ],
             [
              0.2222222222222222,
              "#7201a8"
             ],
             [
              0.3333333333333333,
              "#9c179e"
             ],
             [
              0.4444444444444444,
              "#bd3786"
             ],
             [
              0.5555555555555556,
              "#d8576b"
             ],
             [
              0.6666666666666666,
              "#ed7953"
             ],
             [
              0.7777777777777778,
              "#fb9f3a"
             ],
             [
              0.8888888888888888,
              "#fdca26"
             ],
             [
              1,
              "#f0f921"
             ]
            ],
            "type": "surface"
           }
          ],
          "table": [
           {
            "cells": {
             "fill": {
              "color": "#EBF0F8"
             },
             "line": {
              "color": "white"
             }
            },
            "header": {
             "fill": {
              "color": "#C8D4E3"
             },
             "line": {
              "color": "white"
             }
            },
            "type": "table"
           }
          ]
         },
         "layout": {
          "annotationdefaults": {
           "arrowcolor": "#2a3f5f",
           "arrowhead": 0,
           "arrowwidth": 1
          },
          "autotypenumbers": "strict",
          "coloraxis": {
           "colorbar": {
            "outlinewidth": 0,
            "ticks": ""
           }
          },
          "colorscale": {
           "diverging": [
            [
             0,
             "#8e0152"
            ],
            [
             0.1,
             "#c51b7d"
            ],
            [
             0.2,
             "#de77ae"
            ],
            [
             0.3,
             "#f1b6da"
            ],
            [
             0.4,
             "#fde0ef"
            ],
            [
             0.5,
             "#f7f7f7"
            ],
            [
             0.6,
             "#e6f5d0"
            ],
            [
             0.7,
             "#b8e186"
            ],
            [
             0.8,
             "#7fbc41"
            ],
            [
             0.9,
             "#4d9221"
            ],
            [
             1,
             "#276419"
            ]
           ],
           "sequential": [
            [
             0,
             "#0d0887"
            ],
            [
             0.1111111111111111,
             "#46039f"
            ],
            [
             0.2222222222222222,
             "#7201a8"
            ],
            [
             0.3333333333333333,
             "#9c179e"
            ],
            [
             0.4444444444444444,
             "#bd3786"
            ],
            [
             0.5555555555555556,
             "#d8576b"
            ],
            [
             0.6666666666666666,
             "#ed7953"
            ],
            [
             0.7777777777777778,
             "#fb9f3a"
            ],
            [
             0.8888888888888888,
             "#fdca26"
            ],
            [
             1,
             "#f0f921"
            ]
           ],
           "sequentialminus": [
            [
             0,
             "#0d0887"
            ],
            [
             0.1111111111111111,
             "#46039f"
            ],
            [
             0.2222222222222222,
             "#7201a8"
            ],
            [
             0.3333333333333333,
             "#9c179e"
            ],
            [
             0.4444444444444444,
             "#bd3786"
            ],
            [
             0.5555555555555556,
             "#d8576b"
            ],
            [
             0.6666666666666666,
             "#ed7953"
            ],
            [
             0.7777777777777778,
             "#fb9f3a"
            ],
            [
             0.8888888888888888,
             "#fdca26"
            ],
            [
             1,
             "#f0f921"
            ]
           ]
          },
          "colorway": [
           "#636efa",
           "#EF553B",
           "#00cc96",
           "#ab63fa",
           "#FFA15A",
           "#19d3f3",
           "#FF6692",
           "#B6E880",
           "#FF97FF",
           "#FECB52"
          ],
          "font": {
           "color": "#2a3f5f"
          },
          "geo": {
           "bgcolor": "white",
           "lakecolor": "white",
           "landcolor": "#E5ECF6",
           "showlakes": true,
           "showland": true,
           "subunitcolor": "white"
          },
          "hoverlabel": {
           "align": "left"
          },
          "hovermode": "closest",
          "mapbox": {
           "style": "light"
          },
          "paper_bgcolor": "white",
          "plot_bgcolor": "#E5ECF6",
          "polar": {
           "angularaxis": {
            "gridcolor": "white",
            "linecolor": "white",
            "ticks": ""
           },
           "bgcolor": "#E5ECF6",
           "radialaxis": {
            "gridcolor": "white",
            "linecolor": "white",
            "ticks": ""
           }
          },
          "scene": {
           "xaxis": {
            "backgroundcolor": "#E5ECF6",
            "gridcolor": "white",
            "gridwidth": 2,
            "linecolor": "white",
            "showbackground": true,
            "ticks": "",
            "zerolinecolor": "white"
           },
           "yaxis": {
            "backgroundcolor": "#E5ECF6",
            "gridcolor": "white",
            "gridwidth": 2,
            "linecolor": "white",
            "showbackground": true,
            "ticks": "",
            "zerolinecolor": "white"
           },
           "zaxis": {
            "backgroundcolor": "#E5ECF6",
            "gridcolor": "white",
            "gridwidth": 2,
            "linecolor": "white",
            "showbackground": true,
            "ticks": "",
            "zerolinecolor": "white"
           }
          },
          "shapedefaults": {
           "line": {
            "color": "#2a3f5f"
           }
          },
          "ternary": {
           "aaxis": {
            "gridcolor": "white",
            "linecolor": "white",
            "ticks": ""
           },
           "baxis": {
            "gridcolor": "white",
            "linecolor": "white",
            "ticks": ""
           },
           "bgcolor": "#E5ECF6",
           "caxis": {
            "gridcolor": "white",
            "linecolor": "white",
            "ticks": ""
           }
          },
          "title": {
           "x": 0.05
          },
          "xaxis": {
           "automargin": true,
           "gridcolor": "white",
           "linecolor": "white",
           "ticks": "",
           "title": {
            "standoff": 15
           },
           "zerolinecolor": "white",
           "zerolinewidth": 2
          },
          "yaxis": {
           "automargin": true,
           "gridcolor": "white",
           "linecolor": "white",
           "ticks": "",
           "title": {
            "standoff": 15
           },
           "zerolinecolor": "white",
           "zerolinewidth": 2
          }
         }
        },
        "xaxis": {
         "anchor": "y",
         "domain": [
          0,
          1
         ],
         "title": {
          "text": "index"
         }
        },
        "yaxis": {
         "anchor": "x",
         "domain": [
          0,
          1
         ],
         "title": {
          "text": "value"
         }
        }
       }
      }
     },
     "metadata": {},
     "output_type": "display_data"
    }
   ],
   "source": [
    "fig = px.line(np.cumsum(pca_full_df.explained_variance_ratio_))\n",
    "fig.show()"
   ]
  },
  {
   "cell_type": "code",
   "execution_count": 15,
   "metadata": {},
   "outputs": [
    {
     "data": {
      "image/png": "[encoded data removed]",
      "text/plain": [
       "<Figure size 432x288 with 1 Axes>"
      ]
     },
     "metadata": {
      "needs_background": "light"
     },
     "output_type": "display_data"
    }
   ],
   "source": [
    "plt.plot(np.cumsum(pca_full_df.explained_variance_ratio_))\n",
    "plt.show()"
   ]
  },
  {
   "cell_type": "code",
   "execution_count": 16,
   "metadata": {},
   "outputs": [
    {
     "name": "stdout",
     "output_type": "stream",
     "text": [
      "0.9449446865634289\n",
      "0.9842254412869369\n"
     ]
    }
   ],
   "source": [
    "#Between 10-15 seems good so checking the variance\n",
    "print(np.cumsum(pca_full_df.explained_variance_ratio_)[9])\n",
    "print(np.cumsum(pca_full_df.explained_variance_ratio_)[14])"
   ]
  },
  {
   "cell_type": "markdown",
   "metadata": {},
   "source": [
    "PCA using 15 components"
   ]
  },
  {
   "cell_type": "code",
   "execution_count": 17,
   "metadata": {},
   "outputs": [],
   "source": [
    "pca = PCA(n_components=15)\n",
    "pca_data = pca.fit_transform(scaled_data)"
   ]
  },
  {
   "cell_type": "code",
   "execution_count": 18,
   "metadata": {},
   "outputs": [],
   "source": [
    "model = KMeans(n_clusters=3)\n",
    "model.fit(pca_data)\n",
    "pca_labels = model.predict(pca_data)"
   ]
  },
  {
   "cell_type": "markdown",
   "metadata": {},
   "source": [
    "Plotting initial data, KMeans and KMeans after PCA"
   ]
  },
  {
   "cell_type": "code",
   "execution_count": 19,
   "metadata": {},
   "outputs": [
    {
     "data": {
      "text/plain": [
       "Text(0.5, 1.0, 'PCA KMeans')"
      ]
     },
     "execution_count": 19,
     "metadata": {},
     "output_type": "execute_result"
    },
    {
     "data": {
      "image/png": "[encoded data removed]",
      "text/plain": [
       "<Figure size 1152x576 with 3 Axes>"
      ]
     },
     "metadata": {
      "needs_background": "light"
     },
     "output_type": "display_data"
    }
   ],
   "source": [
    "x1 = scaled_data[:,0]\n",
    "y1 = scaled_data[:,1]\n",
    "x2 = scaled_data[:,0]\n",
    "y2 = scaled_data[:,1]\n",
    "x3 = pca_data[:,0]\n",
    "y3 = pca_data[:,1]\n",
    "fig, ax = plt.subplots(1, 3, figsize=(16,8))\n",
    "ax[0].scatter(x1, y1, c=labels)\n",
    "ax[1].scatter(x2, y2, c=df['target'], cmap=plt.cm.Set1)\n",
    "ax[2].scatter(x3, y3, c=pca_labels)\n",
    "ax[0].set_title('Without KMeans')\n",
    "ax[1].set_title('With KMeans')\n",
    "ax[2].set_title('PCA KMeans')"
   ]
  },
  {
   "cell_type": "markdown",
   "metadata": {},
   "source": [
    "Plotting PCA KMeans with UMAP"
   ]
  },
  {
   "cell_type": "code",
   "execution_count": 21,
   "metadata": {},
   "outputs": [],
   "source": [
    "umap_pca = UMAP(random_state=0)\n",
    "umap_pca_fitted = umap.fit_transform(pca_data)"
   ]
  },
  {
   "cell_type": "code",
   "execution_count": 24,
   "metadata": {},
   "outputs": [
    {
     "data": {
      "application/vnd.plotly.v1+json": {
       "config": {
        "plotlyServerURL": "https://plot.ly"
       },
       "data": [
        {
         "hovertemplate": "0=%{x}<br>1=%{y}<br>color=%{marker.color}<extra></extra>",
         "legendgroup": "",
         "marker": {
          "color": [
           1,
           1,
           1,
           2,
           1,
           2,
           1,
           2,
           2,
           2,
           0,
           2,
           1,
           0,
           2,
           2,
           0,
           2,
           1,
           0,
           0,
           0,
           2,
           1,
           1,
           1,
           2,
           1,
           2,
           1,
           1,
           2,
           1,
           1,
           2,
           1,
           2,
           0,
           0,
           2,
           0,
           2,
           1,
           2,
           0,
           1,
           0,
           2,
           0,
           0,
           0,
           0,
           0,
           1,
           0,
           0,
           1,
           2,
           0,
           0,
           0,
           0,
           2,
           0,
           2,
           2,
           0,
           0,
           2,
           0,
           1,
           2,
           1,
           0,
           0,
           1,
           0,
           1,
           1,
           0,
           0,
           2,
           1,
           1,
           0,
           1,
           0,
           1,
           0,
           2,
           0,
           0,
           0,
           0,
           2,
           1,
           0,
           0,
           0,
           2,
           0,
           0,
           0,
           0,
           0,
           2,
           0,
           0,
           1,
           0,
           0,
           2,
           2,
           0,
           0,
           0,
           0,
           2,
           2,
           1,
           0,
           1,
           1,
           0,
           0,
           0,
           0,
           1,
           2,
           1,
           0,
           1,
           1,
           0,
           1,
           0,
           0,
           0,
           1,
           0,
           0,
           1,
           0,
           0,
           0,
           2,
           2,
           0,
           0,
           0,
           0,
           2,
           2,
           0,
           0,
           0,
           1,
           0,
           0,
           0,
           0,
           1,
           1,
           0,
           1,
           0,
           0,
           1,
           1,
           0,
           0,
           0,
           2,
           0,
           0,
           0,
           2,
           2,
           0,
           0,
           1,
           1,
           0,
           0,
           0,
           0,
           0,
           0,
           0,
           0,
           2,
           0,
           0,
           2,
           2,
           0,
           2,
           1,
           1,
           2,
           0,
           1,
           1,
           2,
           0,
           0,
           0,
           0,
           2,
           0,
           1,
           0,
           1,
           2,
           2,
           2,
           0,
           0,
           1,
           1,
           0,
           0,
           0,
           2,
           0,
           0,
           0,
           0,
           0,
           2,
           1,
           0,
           0,
           1,
           0,
           0,
           1,
           1,
           0,
           1,
           0,
           0,
           2,
           0,
           1,
           0,
           0,
           2,
           0,
           0,
           1,
           0,
           1,
           1,
           1,
           2,
           1,
           2,
           1,
           2,
           1,
           0,
           1,
           0,
           1,
           1,
           0,
           0,
           0,
           2,
           0,
           0,
           1,
           0,
           0,
           0,
           0,
           0,
           0,
           0,
           1,
           0,
           1,
           2,
           0,
           0,
           0,
           0,
           2,
           0,
           2,
           0,
           0,
           0,
           0,
           0,
           0,
           0,
           0,
           0,
           1,
           0,
           1,
           0,
           0,
           0,
           0,
           0,
           0,
           0,
           0,
           0,
           0,
           0,
           0,
           0,
           0,
           1,
           2,
           0,
           0,
           1,
           0,
           1,
           0,
           0,
           0,
           0,
           1,
           2,
           2,
           0,
           0,
           0,
           0,
           1,
           0,
           1,
           0,
           1,
           0,
           0,
           0,
           1,
           0,
           0,
           0,
           0,
           0,
           0,
           0,
           2,
           1,
           2,
           0,
           0,
           2,
           0,
           0,
           0,
           0,
           0,
           0,
           0,
           0,
           1,
           1,
           0,
           1,
           1,
           2,
           0,
           1,
           1,
           0,
           0,
           2,
           0,
           0,
           2,
           0,
           0,
           0,
           2,
           0,
           0,
           0,
           0,
           2,
           1,
           0,
           0,
           1,
           1,
           0,
           0,
           0,
           0,
           0,
           0,
           2,
           0,
           0,
           0,
           0,
           0,
           0,
           0,
           1,
           0,
           0,
           0,
           0,
           0,
           0,
           0,
           0,
           1,
           0,
           0,
           0,
           2,
           0,
           0,
           0,
           0,
           0,
           0,
           0,
           0,
           2,
           0,
           1,
           1,
           0,
           2,
           0,
           0,
           0,
           0,
           2,
           1,
           0,
           0,
           1,
           0,
           1,
           0,
           0,
           1,
           0,
           1,
           0,
           0,
           0,
           0,
           0,
           0,
           0,
           0,
           1,
           1,
           0,
           0,
           0,
           2,
           0,
           0,
           1,
           2,
           0,
           0,
           0,
           0,
           0,
           0,
           0,
           0,
           0,
           2,
           0,
           0,
           0,
           0,
           0,
           2,
           0,
           1,
           0,
           0,
           0,
           0,
           1,
           0,
           0,
           0,
           0,
           0,
           1,
           1,
           0,
           2,
           0,
           1,
           2,
           2,
           0,
           2,
           0,
           2,
           0,
           0,
           2,
           0,
           0,
           0,
           1,
           1,
           0,
           0,
           2,
           1,
           0,
           0,
           0,
           0,
           0,
           0,
           0,
           0,
           0,
           0,
           0,
           1,
           0,
           1,
           2,
           2,
           0,
           2,
           0,
           2,
           0,
           0,
           0,
           0,
           0,
           0,
           0,
           0,
           0,
           0,
           0,
           0,
           0,
           0,
           0,
           0,
           0,
           0,
           0,
           0,
           2,
           1,
           1,
           1,
           1,
           1,
           0
          ],
          "coloraxis": "coloraxis",
          "symbol": "circle"
         },
         "mode": "markers",
         "name": "",
         "orientation": "v",
         "showlegend": false,
         "type": "scatter",
         "x": [
          3.3408472537994385,
          4.965284824371338,
          3.613711357116699,
          4.3462910652160645,
          4.675524711608887,
          4.993300914764404,
          4.996309757232666,
          5.210256099700928,
          4.8389997482299805,
          4.3613409996032715,
          6.441450119018555,
          5.408803939819336,
          2.9855527877807617,
          5.941075801849365,
          4.517646789550781,
          4.556230545043945,
          6.358967304229736,
          4.606189250946045,
          4.325412273406982,
          15.408227920532227,
          14.816020011901855,
          13.748961448669434,
          4.53125524520874,
          4.388082027435303,
          4.019667625427246,
          3.3939919471740723,
          4.757449626922607,
          4.525490760803223,
          4.587429046630859,
          5.194935321807861,
          3.614461898803711,
          4.808116436004639,
          4.206055164337158,
          4.202897071838379,
          5.269568920135498,
          5.221196174621582,
          5.6069560050964355,
          13.32729434967041,
          11.666903495788574,
          5.7538275718688965,
          6.631802558898926,
          5.677727222442627,
          3.09063982963562,
          5.567534446716309,
          6.031353950500488,
          3.9331867694854736,
          13.111639022827148,
          5.165185928344727,
          14.51645565032959,
          12.596589088439941,
          13.322465896606445,
          15.280664443969727,
          13.90325927734375,
          4.588085651397705,
          6.477370262145996,
          13.222341537475586,
          4.1760382652282715,
          5.414320468902588,
          13.686772346496582,
          13.86281681060791,
          12.915124893188477,
          12.207520484924316,
          4.30564022064209,
          12.99308967590332,
          5.418962478637695,
          5.492377281188965,
          12.189887046813965,
          13.761591911315918,
          13.488161087036133,
          14.371479034423828,
          4.865575790405273,
          13.138270378112793,
          4.078880310058594,
          5.946217060089111,
          14.428719520568848,
          5.405816555023193,
          13.441316604614258,
          3.4340014457702637,
          2.995030164718628,
          14.159050941467285,
          12.256194114685059,
          14.060859680175781,
          3.0388739109039307,
          4.053620338439941,
          13.50684928894043,
          4.51264762878418,
          6.094622611999512,
          4.52173376083374,
          13.844573020935059,
          13.672818183898926,
          12.535086631774902,
          6.0943779945373535,
          15.383992195129395,
          13.584375381469727,
          4.8715386390686035,
          4.158828258514404,
          12.187102317810059,
          12.162259101867676,
          14.545801162719727,
          5.978687286376953,
          6.459784984588623,
          13.200075149536133,
          12.720412254333496,
          12.963268280029297,
          12.914565086364746,
          4.878040790557861,
          12.770210266113281,
          14.396909713745117,
          2.9649903774261475,
          13.716510772705078,
          12.447921752929688,
          13.017417907714844,
          13.549437522888184,
          12.939988136291504,
          13.822321891784668,
          13.747289657592773,
          12.973199844360352,
          4.9431538581848145,
          4.4031291007995605,
          5.649637222290039,
          14.500511169433594,
          4.587025165557861,
          3.0031790733337402,
          15.393144607543945,
          14.62655258178711,
          15.161774635314941,
          6.379974842071533,
          5.315479278564453,
          13.52929973602295,
          4.001582145690918,
          14.292939186096191,
          5.46623420715332,
          5.561972141265869,
          15.620367050170898,
          5.106613636016846,
          6.5036516189575195,
          11.987715721130371,
          14.271880149841309,
          4.4940385818481445,
          13.109750747680664,
          13.632218360900879,
          5.219997882843018,
          12.196508407592773,
          14.585258483886719,
          14.243208885192871,
          12.773247718811035,
          4.741768836975098,
          14.102422714233398,
          15.352771759033203,
          15.297368049621582,
          12.891159057617188,
          13.139948844909668,
          13.451692581176758,
          14.044583320617676,
          14.3839111328125,
          13.891237258911133,
          4.384439945220947,
          12.5953950881958,
          14.769813537597656,
          14.27188491821289,
          12.97421932220459,
          4.64637565612793,
          3.7193686962127686,
          12.605731964111328,
          4.194408893585205,
          15.081445693969727,
          14.603731155395508,
          5.4715423583984375,
          3.6392874717712402,
          14.992188453674316,
          14.226200103759766,
          6.52878999710083,
          4.970822334289551,
          12.381606101989746,
          13.241786003112793,
          13.3705472946167,
          13.45761489868164,
          4.795618534088135,
          14.868264198303223,
          14.728926658630371,
          3.0427236557006836,
          3.4305689334869385,
          5.987603664398193,
          14.539811134338379,
          6.1491780281066895,
          12.735372543334961,
          5.459522247314453,
          14.299790382385254,
          12.723004341125488,
          14.478250503540039,
          4.233604907989502,
          11.926258087158203,
          12.159414291381836,
          5.176883220672607,
          4.783535957336426,
          14.533259391784668,
          5.278604984283447,
          5.396420955657959,
          4.507574558258057,
          5.60693883895874,
          13.55868911743164,
          5.29035758972168,
          3.0298752784729004,
          4.977476596832275,
          13.970377922058105,
          6.025832176208496,
          12.822147369384766,
          5.5909600257873535,
          14.401970863342285,
          15.569738388061523,
          4.322597503662109,
          14.09779167175293,
          3.0961434841156006,
          12.829297065734863,
          5.063815593719482,
          5.346313953399658,
          13.386807441711426,
          13.087666511535645,
          3.9644405841827393,
          4.326990127563477,
          14.788519859313965,
          15.140144348144531,
          13.14828872680664,
          5.528914451599121,
          15.285074234008789,
          15.477245330810547,
          13.897336959838867,
          15.230555534362793,
          15.03157901763916,
          4.848774433135986,
          4.929808616638184,
          12.08138656616211,
          11.918254852294922,
          4.556128978729248,
          13.15716552734375,
          12.3970947265625,
          3.1314685344696045,
          4.926249980926514,
          11.747964859008789,
          4.518277645111084,
          15.266766548156738,
          14.536345481872559,
          13.579767227172852,
          12.600297927856445,
          4.355096340179443,
          12.211355209350586,
          13.072612762451172,
          13.96240234375,
          12.55252456665039,
          14.137020111083984,
          3.2640323638916016,
          13.756962776184082,
          3.8083789348602295,
          5.356114387512207,
          4.5894246101379395,
          5.736504554748535,
          3.5282647609710693,
          4.640546798706055,
          3.067199230194092,
          4.624885559082031,
          4.525320529937744,
          6.503599166870117,
          4.466924667358398,
          6.59751558303833,
          5.375040054321289,
          3.3965766429901123,
          13.119821548461914,
          12.547113418579102,
          13.343246459960938,
          13.117700576782227,
          14.975109100341797,
          14.32301139831543,
          3.214115858078003,
          12.764313697814941,
          6.325989723205566,
          13.004831314086914,
          13.446257591247559,
          5.795440196990967,
          15.139578819274902,
          14.804755210876465,
          4.171420574188232,
          13.150636672973633,
          4.427605628967285,
          5.049117088317871,
          14.556046485900879,
          13.579937934875488,
          13.988972663879395,
          14.784165382385254,
          13.164047241210938,
          12.851712226867676,
          13.441737174987793,
          14.953722953796387,
          14.272353172302246,
          13.615032196044922,
          14.78690242767334,
          14.954312324523926,
          14.140914916992188,
          11.811013221740723,
          15.26645278930664,
          12.629673957824707,
          3.430685520172119,
          14.328736305236816,
          3.159184217453003,
          12.094820976257324,
          14.01527214050293,
          12.541008949279785,
          14.912907600402832,
          13.343225479125977,
          14.785072326660156,
          14.7871732711792,
          13.143173217773438,
          15.146509170532227,
          14.929304122924805,
          14.375310897827148,
          12.178288459777832,
          14.555726051330566,
          14.478809356689453,
          5.168919563293457,
          13.437545776367188,
          13.612288475036621,
          12.866878509521484,
          5.341106414794922,
          14.477856636047363,
          3.609771966934204,
          14.611311912536621,
          14.109410285949707,
          14.852217674255371,
          14.438603401184082,
          5.3323655128479,
          4.701358318328857,
          5.251830101013184,
          14.4190092086792,
          12.503271102905273,
          13.848238945007324,
          13.215036392211914,
          4.502753257751465,
          14.765181541442871,
          4.052488803863525,
          12.451480865478516,
          3.2394065856933594,
          14.973562240600586,
          13.870575904846191,
          14.095260620117188,
          4.05072021484375,
          13.544633865356445,
          12.31520938873291,
          13.353838920593262,
          15.528474807739258,
          13.88847827911377,
          13.316117286682129,
          14.052199363708496,
          4.297358512878418,
          3.0480337142944336,
          5.294273376464844,
          14.308440208435059,
          14.369588851928711,
          13.415453910827637,
          14.83143138885498,
          13.170242309570312,
          12.02202033996582,
          14.487309455871582,
          12.703205108642578,
          13.649087905883789,
          12.892965316772461,
          15.0050048828125,
          4.980313301086426,
          3.9682552814483643,
          14.21103572845459,
          3.418325424194336,
          3.173893690109253,
          4.878078460693359,
          15.528428077697754,
          4.67426872253418,
          4.8276848793029785,
          14.742143630981445,
          15.201228141784668,
          13.482640266418457,
          12.087194442749023,
          14.93759536743164,
          4.640878200531006,
          13.758556365966797,
          13.9782133102417,
          14.279531478881836,
          13.925226211547852,
          15.294013977050781,
          6.406675338745117,
          14.537935256958008,
          15.116161346435547,
          13.571649551391602,
          4.213505268096924,
          14.254212379455566,
          12.623228073120117,
          4.493447780609131,
          3.5273663997650146,
          13.064663887023926,
          13.167144775390625,
          14.463630676269531,
          14.577327728271484,
          14.545052528381348,
          14.027913093566895,
          4.225564002990723,
          14.761765480041504,
          13.281076431274414,
          14.5879545211792,
          13.956727981567383,
          12.054821014404297,
          15.5875244140625,
          14.12728500366211,
          4.983688831329346,
          12.97518253326416,
          13.006625175476074,
          13.596481323242188,
          13.63202953338623,
          14.827816009521484,
          6.4602556228637695,
          13.10080337524414,
          12.270506858825684,
          3.4486865997314453,
          14.758599281311035,
          12.643021583557129,
          13.215897560119629,
          13.445266723632812,
          14.325439453125,
          14.967817306518555,
          12.768000602722168,
          13.362300872802734,
          13.679964065551758,
          12.593514442443848,
          14.191957473754883,
          14.19633960723877,
          4.418433666229248,
          12.928903579711914,
          4.25628137588501,
          4.213583946228027,
          15.380270957946777,
          5.871967315673828,
          13.904349327087402,
          15.2374267578125,
          12.911548614501953,
          15.372261047363281,
          13.862643241882324,
          5.349425792694092,
          14.870719909667969,
          12.811129570007324,
          5.2772908210754395,
          13.49034309387207,
          4.496737480163574,
          14.69783878326416,
          15.005325317382812,
          4.646780014038086,
          14.043522834777832,
          4.898471355438232,
          11.769359588623047,
          15.48230266571045,
          14.702496528625488,
          11.830551147460938,
          11.764411926269531,
          12.19925308227539,
          12.192201614379883,
          11.854923248291016,
          4.446109771728516,
          3.004794120788574,
          12.137227058410645,
          13.954010009765625,
          15.3832426071167,
          13.889183044433594,
          14.926482200622559,
          12.749722480773926,
          3.7133677005767822,
          12.648812294006348,
          12.98958683013916,
          12.08243179321289,
          15.55379867553711,
          12.037128448486328,
          13.986699104309082,
          14.976424217224121,
          14.999363899230957,
          15.170215606689453,
          14.213008880615234,
          4.578231334686279,
          13.99191951751709,
          15.345358848571777,
          14.942668914794922,
          14.856059074401855,
          15.40630054473877,
          13.458487510681152,
          15.387182235717773,
          4.0508036613464355,
          13.516263008117676,
          6.092965126037598,
          12.91450309753418,
          15.387444496154785,
          4.553895950317383,
          13.97428035736084,
          12.882318496704102,
          12.785639762878418,
          14.309002876281738,
          14.515839576721191,
          4.676252365112305,
          4.0590081214904785,
          15.25361156463623,
          5.157004356384277,
          13.555560111999512,
          3.27614688873291,
          12.579036712646484,
          12.651711463928223,
          13.888473510742188,
          12.682000160217285,
          15.649368286132812,
          4.4221577644348145,
          14.256002426147461,
          15.488926887512207,
          5.203210830688477,
          15.588930130004883,
          6.5235161781311035,
          13.204498291015625,
          4.932871341705322,
          4.781831741333008,
          13.993477821350098,
          13.665947914123535,
          12.63350772857666,
          3.069448947906494,
          13.789629936218262,
          14.070300102233887,
          12.192646026611328,
          13.942849159240723,
          14.525652885437012,
          14.889167785644531,
          13.075453758239746,
          14.317172050476074,
          12.03365707397461,
          13.982243537902832,
          14.940394401550293,
          4.243806838989258,
          12.677136421203613,
          3.786494255065918,
          6.10245943069458,
          12.601166725158691,
          12.470561981201172,
          12.96303653717041,
          12.903800964355469,
          14.69541072845459,
          12.457096099853516,
          11.973302841186523,
          14.03872013092041,
          12.522467613220215,
          13.661392211914062,
          12.77248764038086,
          13.315674781799316,
          12.436996459960938,
          13.282081604003906,
          13.026131629943848,
          11.972089767456055,
          12.590194702148438,
          11.908427238464355,
          11.693442344665527,
          12.493614196777344,
          12.173994064331055,
          14.796143531799316,
          11.66810417175293,
          12.139522552490234,
          11.991929054260254,
          4.442174911499023,
          3.0350289344787598,
          3.488145351409912,
          4.430631160736084,
          5.889969348907471,
          3.1500742435455322,
          13.123856544494629
         ],
         "xaxis": "x",
         "y": [
          2.447202444076538,
          3.347445487976074,
          2.8292782306671143,
          0.8806120753288269,
          4.042418479919434,
          0.8435139656066895,
          2.8874013423919678,
          1.0636582374572754,
          0.7438622713088989,
          0.8510346412658691,
          3.103025436401367,
          1.5985440015792847,
          2.753873825073242,
          3.2086880207061768,
          0.7454766631126404,
          0.8397341370582581,
          2.876215934753418,
          1.424163818359375,
          3.373204231262207,
          6.303140640258789,
          5.817410469055176,
          6.166243553161621,
          1.2776119709014893,
          3.3628690242767334,
          2.896080255508423,
          2.367217779159546,
          0.861945629119873,
          4.103338718414307,
          1.230080485343933,
          3.677978277206421,
          2.704162120819092,
          0.8336950540542603,
          2.1348249912261963,
          2.4545540809631348,
          1.2719204425811768,
          1.5978419780731201,
          1.3205877542495728,
          8.784256935119629,
          6.797540187835693,
          1.5090243816375732,
          3.1417362689971924,
          1.0910531282424927,
          2.664780616760254,
          1.2308557033538818,
          1.674846887588501,
          2.4977269172668457,
          7.096976280212402,
          1.000320553779602,
          6.055102348327637,
          8.717649459838867,
          8.415590286254883,
          8.260491371154785,
          7.756586074829102,
          4.252048015594482,
          2.9515748023986816,
          7.1834259033203125,
          3.1674394607543945,
          1.2499030828475952,
          8.596929550170898,
          6.230031490325928,
          6.084744930267334,
          5.830318927764893,
          1.511871337890625,
          6.3585920333862305,
          1.140310287475586,
          1.435681939125061,
          5.9889678955078125,
          7.913329124450684,
          3.561627149581909,
          7.715299129486084,
          3.488504409790039,
          3.8453996181488037,
          1.8085492849349976,
          1.816907286643982,
          7.374231338500977,
          3.907452344894409,
          5.669210433959961,
          2.459743022918701,
          2.520374298095703,
          6.953793048858643,
          5.820048809051514,
          4.896829605102539,
          3.138715982437134,
          4.081534385681152,
          6.821296691894531,
          3.9946391582489014,
          2.725858211517334,
          2.9201810359954834,
          5.40972900390625,
          4.807358741760254,
          8.828857421875,
          2.9968674182891846,
          8.346921920776367,
          7.629818916320801,
          1.908392071723938,
          3.8197782039642334,
          6.7837300300598145,
          6.344030857086182,
          6.4521355628967285,
          2.2945375442504883,
          3.0199620723724365,
          6.301586627960205,
          8.723785400390625,
          5.452381134033203,
          6.347982883453369,
          1.0736291408538818,
          5.213384628295898,
          7.615826606750488,
          2.706286668777466,
          6.606600284576416,
          5.274753093719482,
          4.444133758544922,
          3.6025784015655518,
          4.417859077453613,
          5.7820305824279785,
          6.59767484664917,
          4.378047466278076,
          1.2861552238464355,
          1.4969767332077026,
          3.5528297424316406,
          6.447861194610596,
          4.052818298339844,
          2.7104594707489014,
          6.035571575164795,
          4.3345184326171875,
          8.196882247924805,
          2.615574598312378,
          3.6975762844085693,
          4.74431037902832,
          2.7903552055358887,
          5.7508649826049805,
          2.615018367767334,
          2.5529627799987793,
          6.538614749908447,
          3.2482895851135254,
          2.960554838180542,
          6.461989879608154,
          7.371261119842529,
          4.315106391906738,
          5.180991172790527,
          7.34889554977417,
          3.8255667686462402,
          6.266142845153809,
          6.8397393226623535,
          8.585331916809082,
          4.376903057098389,
          0.9893231987953186,
          4.136200904846191,
          5.919753074645996,
          8.538778305053711,
          5.97426176071167,
          4.015172004699707,
          3.589350461959839,
          6.610481262207031,
          5.610849380493164,
          7.196037292480469,
          4.101462364196777,
          8.94414234161377,
          7.510778903961182,
          8.545042037963867,
          5.709803104400635,
          4.243696212768555,
          2.836838483810425,
          5.108336925506592,
          3.42659330368042,
          8.727864265441895,
          6.957069396972656,
          3.8211820125579834,
          3.1672816276550293,
          7.2834296226501465,
          6.346820831298828,
          2.993223190307617,
          1.5295426845550537,
          5.452108860015869,
          7.840470314025879,
          7.416043281555176,
          3.6092920303344727,
          1.7902177572250366,
          8.983281135559082,
          8.27532958984375,
          3.41029691696167,
          2.5122358798980713,
          2.7463901042938232,
          4.297417163848877,
          2.01218318939209,
          6.537565231323242,
          2.9394099712371826,
          7.480895519256592,
          6.997018814086914,
          8.120658874511719,
          0.8777194023132324,
          6.866941452026367,
          8.209810256958008,
          0.9906124472618103,
          1.652945876121521,
          7.536533355712891,
          1.7728033065795898,
          3.7228758335113525,
          2.919365167617798,
          1.4117825031280518,
          5.893105506896973,
          2.9318037033081055,
          2.792881488800049,
          1.090067982673645,
          5.5224761962890625,
          1.9479655027389526,
          6.289146423339844,
          3.595268726348877,
          5.034362316131592,
          7.111637592315674,
          4.11652946472168,
          7.661525249481201,
          3.4696855545043945,
          3.9553070068359375,
          1.2424852848052979,
          1.1126537322998047,
          4.722104072570801,
          6.586950778961182,
          3.6494202613830566,
          3.290100574493408,
          6.646981716156006,
          5.823401927947998,
          6.1074323654174805,
          1.3582135438919067,
          7.938482761383057,
          6.3925981521606445,
          6.803107738494873,
          5.697035312652588,
          4.920170307159424,
          0.8155493140220642,
          2.021265745162964,
          8.977127075195312,
          8.86860466003418,
          3.379812479019165,
          6.670279502868652,
          8.706841468811035,
          3.440638542175293,
          3.5025086402893066,
          8.706891059875488,
          2.871523380279541,
          7.36118221282959,
          8.642836570739746,
          3.919767141342163,
          8.714184761047363,
          3.8577051162719727,
          5.84059476852417,
          8.688745498657227,
          4.390710353851318,
          7.243460655212402,
          6.221399307250977,
          2.9465906620025635,
          7.4837965965271,
          2.0985357761383057,
          2.7973203659057617,
          3.0456936359405518,
          2.0530364513397217,
          3.0808093547821045,
          1.3703739643096924,
          2.640228033065796,
          1.0132708549499512,
          3.0916452407836914,
          3.228348970413208,
          4.213021755218506,
          3.1413564682006836,
          2.790846586227417,
          3.5888776779174805,
          5.662133693695068,
          8.793041229248047,
          7.08422327041626,
          4.33167839050293,
          8.900189399719238,
          6.430778980255127,
          3.325143814086914,
          6.490239143371582,
          3.162778615951538,
          5.232312202453613,
          7.49469518661499,
          3.3929154872894287,
          8.713054656982422,
          7.185488700866699,
          2.6370840072631836,
          6.959728240966797,
          2.7978157997131348,
          1.6539270877838135,
          4.275406837463379,
          8.55019474029541,
          4.162385940551758,
          8.834683418273926,
          4.226564407348633,
          7.137347221374512,
          3.679685354232788,
          5.25964879989624,
          5.534273147583008,
          7.145994186401367,
          7.590819835662842,
          7.615105628967285,
          8.706543922424316,
          6.688100337982178,
          8.631503105163574,
          6.753667831420898,
          3.0258705615997314,
          4.4467973709106445,
          2.75931453704834,
          6.225675106048584,
          7.695888996124268,
          7.762702465057373,
          8.049369812011719,
          7.834488868713379,
          8.865943908691406,
          8.735738754272461,
          7.1961894035339355,
          8.780117988586426,
          6.286508560180664,
          7.026987075805664,
          5.7569780349731445,
          8.752280235290527,
          8.792486190795898,
          2.92738676071167,
          3.7398593425750732,
          8.704474449157715,
          4.477328300476074,
          3.6111090183258057,
          6.1993727684021,
          2.552448034286499,
          7.782279968261719,
          7.291391849517822,
          8.254764556884766,
          8.705647468566895,
          2.2063956260681152,
          4.272282600402832,
          2.1558620929718018,
          5.186595439910889,
          6.389769077301025,
          8.175190925598145,
          8.480358123779297,
          3.9566078186035156,
          6.276928424835205,
          3.2563130855560303,
          6.317668437957764,
          3.5258569717407227,
          5.356679439544678,
          5.0321431159973145,
          5.719046115875244,
          3.913853406906128,
          5.774529457092285,
          5.4413580894470215,
          8.037105560302734,
          6.695171356201172,
          6.630403995513916,
          5.80520486831665,
          8.537946701049805,
          1.2673512697219849,
          3.276979446411133,
          2.1983625888824463,
          4.744692802429199,
          4.215063095092773,
          4.696442127227783,
          8.500575065612793,
          6.026034832000732,
          6.411803722381592,
          8.83907413482666,
          8.777223587036133,
          7.185469150543213,
          8.555318832397461,
          7.927469253540039,
          3.3424506187438965,
          3.9160821437835693,
          7.162901401519775,
          3.57869291305542,
          3.404951333999634,
          1.4690296649932861,
          7.238889694213867,
          2.9069128036499023,
          3.3193142414093018,
          7.179635524749756,
          5.734192371368408,
          3.6391584873199463,
          9.026459693908691,
          6.564128875732422,
          0.7358343601226807,
          5.5985212326049805,
          7.262842655181885,
          4.191824436187744,
          4.870236873626709,
          6.847841262817383,
          2.9372763633728027,
          4.71295166015625,
          8.748673439025879,
          4.035562038421631,
          4.093794345855713,
          6.547318935394287,
          6.284435749053955,
          1.793760895729065,
          2.6086156368255615,
          6.180023670196533,
          8.846219062805176,
          5.364907264709473,
          4.3590264320373535,
          7.839860439300537,
          7.248311996459961,
          1.7113043069839478,
          7.768892765045166,
          6.890552520751953,
          7.236144542694092,
          8.575169563293457,
          6.275952339172363,
          6.626039981842041,
          4.125825881958008,
          2.579500913619995,
          7.1913886070251465,
          7.921557903289795,
          6.828133583068848,
          8.075529098510742,
          5.046440601348877,
          3.3014838695526123,
          6.075563907623291,
          5.96082067489624,
          2.9311232566833496,
          6.568393230438232,
          7.108432292938232,
          6.585958480834961,
          4.626931667327881,
          5.952075958251953,
          5.038536071777344,
          5.9657135009765625,
          8.361353874206543,
          4.805418014526367,
          7.411426544189453,
          8.63024616241455,
          8.69111156463623,
          1.3683404922485352,
          4.6438822746276855,
          2.7774057388305664,
          4.0185723304748535,
          7.616730213165283,
          1.5287476778030396,
          7.313440799713135,
          7.572660446166992,
          8.879668235778809,
          8.238200187683105,
          4.328910827636719,
          3.0485408306121826,
          8.533217430114746,
          6.70186710357666,
          2.889960765838623,
          5.493454933166504,
          2.868096351623535,
          7.047718048095703,
          4.786065101623535,
          3.371079444885254,
          4.070223808288574,
          3.5806655883789062,
          8.702704429626465,
          6.246575355529785,
          7.371107578277588,
          8.730783462524414,
          8.534306526184082,
          8.890899658203125,
          8.920881271362305,
          8.82012939453125,
          3.6292107105255127,
          3.4451329708099365,
          9.043085098266602,
          7.405004978179932,
          8.146072387695312,
          4.147700309753418,
          4.827548027038574,
          6.827591896057129,
          2.2681422233581543,
          4.61793851852417,
          6.483276844024658,
          8.226786613464355,
          6.735707759857178,
          8.314618110656738,
          5.156791687011719,
          6.815155029296875,
          4.867532253265381,
          8.631854057312012,
          5.8958940505981445,
          1.507832407951355,
          7.735289096832275,
          8.523287773132324,
          5.827666759490967,
          7.341653823852539,
          5.998079299926758,
          3.7639272212982178,
          8.275262832641602,
          2.8065314292907715,
          5.746053218841553,
          3.1398208141326904,
          8.146175384521484,
          8.354087829589844,
          4.246865272521973,
          8.624706268310547,
          8.625326156616211,
          8.70690631866455,
          5.220494270324707,
          7.422322750091553,
          3.9092257022857666,
          2.895437240600586,
          6.2433061599731445,
          1.075435757637024,
          5.662109851837158,
          3.5739333629608154,
          4.310556888580322,
          4.249937057495117,
          5.529682159423828,
          4.5025739669799805,
          6.752675533294678,
          1.4458764791488647,
          4.520266056060791,
          7.725179672241211,
          1.001025915145874,
          6.5814409255981445,
          3.0337412357330322,
          6.00178861618042,
          2.95947003364563,
          2.986250638961792,
          5.431727409362793,
          5.59559965133667,
          4.709765911102295,
          3.30509877204895,
          8.351862907409668,
          5.404818058013916,
          6.143967628479004,
          5.945926189422607,
          5.804919242858887,
          7.3275933265686035,
          4.957687854766846,
          6.142253398895264,
          6.375300884246826,
          6.155142784118652,
          7.6408915519714355,
          4.0126190185546875,
          5.159148693084717,
          2.9226462841033936,
          2.457167387008667,
          4.530664920806885,
          6.8488450050354,
          4.260668754577637,
          4.675414085388184,
          4.976139068603516,
          8.87735366821289,
          8.861114501953125,
          6.868715763092041,
          8.792811393737793,
          7.417407512664795,
          5.12053108215332,
          7.95063591003418,
          7.6332879066467285,
          8.446447372436523,
          6.54893159866333,
          8.902108192443848,
          6.452347278594971,
          8.891325950622559,
          8.539846420288086,
          6.427494049072266,
          8.038735389709473,
          4.563006401062012,
          8.565345764160156,
          8.566699981689453,
          8.438693046569824,
          0.9029417037963867,
          2.8333826065063477,
          3.4512293338775635,
          3.8443214893341064,
          3.1607186794281006,
          2.647505283355713,
          8.299112319946289
         ],
         "yaxis": "y"
        }
       ],
       "layout": {
        "coloraxis": {
         "colorbar": {
          "title": {
           "text": "color"
          }
         },
         "colorscale": [
          [
           0,
           "#0d0887"
          ],
          [
           0.1111111111111111,
           "#46039f"
          ],
          [
           0.2222222222222222,
           "#7201a8"
          ],
          [
           0.3333333333333333,
           "#9c179e"
          ],
          [
           0.4444444444444444,
           "#bd3786"
          ],
          [
           0.5555555555555556,
           "#d8576b"
          ],
          [
           0.6666666666666666,
           "#ed7953"
          ],
          [
           0.7777777777777778,
           "#fb9f3a"
          ],
          [
           0.8888888888888888,
           "#fdca26"
          ],
          [
           1,
           "#f0f921"
          ]
         ]
        },
        "legend": {
         "tracegroupgap": 0
        },
        "template": {
         "data": {
          "bar": [
           {
            "error_x": {
             "color": "#2a3f5f"
            },
            "error_y": {
             "color": "#2a3f5f"
            },
            "marker": {
             "line": {
              "color": "#E5ECF6",
              "width": 0.5
             },
             "pattern": {
              "fillmode": "overlay",
              "size": 10,
              "solidity": 0.2
             }
            },
            "type": "bar"
           }
          ],
          "barpolar": [
           {
            "marker": {
             "line": {
              "color": "#E5ECF6",
              "width": 0.5
             },
             "pattern": {
              "fillmode": "overlay",
              "size": 10,
              "solidity": 0.2
             }
            },
            "type": "barpolar"
           }
          ],
          "carpet": [
           {
            "aaxis": {
             "endlinecolor": "#2a3f5f",
             "gridcolor": "white",
             "linecolor": "white",
             "minorgridcolor": "white",
             "startlinecolor": "#2a3f5f"
            },
            "baxis": {
             "endlinecolor": "#2a3f5f",
             "gridcolor": "white",
             "linecolor": "white",
             "minorgridcolor": "white",
             "startlinecolor": "#2a3f5f"
            },
            "type": "carpet"
           }
          ],
          "choropleth": [
           {
            "colorbar": {
             "outlinewidth": 0,
             "ticks": ""
            },
            "type": "choropleth"
           }
          ],
          "contour": [
           {
            "colorbar": {
             "outlinewidth": 0,
             "ticks": ""
            },
            "colorscale": [
             [
              0,
              "#0d0887"
             ],
             [
              0.1111111111111111,
              "#46039f"
             ],
             [
              0.2222222222222222,
              "#7201a8"
             ],
             [
              0.3333333333333333,
              "#9c179e"
             ],
             [
              0.4444444444444444,
              "#bd3786"
             ],
             [
              0.5555555555555556,
              "#d8576b"
             ],
             [
              0.6666666666666666,
              "#ed7953"
             ],
             [
              0.7777777777777778,
              "#fb9f3a"
             ],
             [
              0.8888888888888888,
              "#fdca26"
             ],
             [
              1,
              "#f0f921"
             ]
            ],
            "type": "contour"
           }
          ],
          "contourcarpet": [
           {
            "colorbar": {
             "outlinewidth": 0,
             "ticks": ""
            },
            "type": "contourcarpet"
           }
          ],
          "heatmap": [
           {
            "colorbar": {
             "outlinewidth": 0,
             "ticks": ""
            },
            "colorscale": [
             [
              0,
              "#0d0887"
             ],
             [
              0.1111111111111111,
              "#46039f"
             ],
             [
              0.2222222222222222,
              "#7201a8"
             ],
             [
              0.3333333333333333,
              "#9c179e"
             ],
             [
              0.4444444444444444,
              "#bd3786"
             ],
             [
              0.5555555555555556,
              "#d8576b"
             ],
             [
              0.6666666666666666,
              "#ed7953"
             ],
             [
              0.7777777777777778,
              "#fb9f3a"
             ],
             [
              0.8888888888888888,
              "#fdca26"
             ],
             [
              1,
              "#f0f921"
             ]
            ],
            "type": "heatmap"
           }
          ],
          "heatmapgl": [
           {
            "colorbar": {
             "outlinewidth": 0,
             "ticks": ""
            },
            "colorscale": [
             [
              0,
              "#0d0887"
             ],
             [
              0.1111111111111111,
              "#46039f"
             ],
             [
              0.2222222222222222,
              "#7201a8"
             ],
             [
              0.3333333333333333,
              "#9c179e"
             ],
             [
              0.4444444444444444,
              "#bd3786"
             ],
             [
              0.5555555555555556,
              "#d8576b"
             ],
             [
              0.6666666666666666,
              "#ed7953"
             ],
             [
              0.7777777777777778,
              "#fb9f3a"
             ],
             [
              0.8888888888888888,
              "#fdca26"
             ],
             [
              1,
              "#f0f921"
             ]
            ],
            "type": "heatmapgl"
           }
          ],
          "histogram": [
           {
            "marker": {
             "pattern": {
              "fillmode": "overlay",
              "size": 10,
              "solidity": 0.2
             }
            },
            "type": "histogram"
           }
          ],
          "histogram2d": [
           {
            "colorbar": {
             "outlinewidth": 0,
             "ticks": ""
            },
            "colorscale": [
             [
              0,
              "#0d0887"
             ],
             [
              0.1111111111111111,
              "#46039f"
             ],
             [
              0.2222222222222222,
              "#7201a8"
             ],
             [
              0.3333333333333333,
              "#9c179e"
             ],
             [
              0.4444444444444444,
              "#bd3786"
             ],
             [
              0.5555555555555556,
              "#d8576b"
             ],
             [
              0.6666666666666666,
              "#ed7953"
             ],
             [
              0.7777777777777778,
              "#fb9f3a"
             ],
             [
              0.8888888888888888,
              "#fdca26"
             ],
             [
              1,
              "#f0f921"
             ]
            ],
            "type": "histogram2d"
           }
          ],
          "histogram2dcontour": [
           {
            "colorbar": {
             "outlinewidth": 0,
             "ticks": ""
            },
            "colorscale": [
             [
              0,
              "#0d0887"
             ],
             [
              0.1111111111111111,
              "#46039f"
             ],
             [
              0.2222222222222222,
              "#7201a8"
             ],
             [
              0.3333333333333333,
              "#9c179e"
             ],
             [
              0.4444444444444444,
              "#bd3786"
             ],
             [
              0.5555555555555556,
              "#d8576b"
             ],
             [
              0.6666666666666666,
              "#ed7953"
             ],
             [
              0.7777777777777778,
              "#fb9f3a"
             ],
             [
              0.8888888888888888,
              "#fdca26"
             ],
             [
              1,
              "#f0f921"
             ]
            ],
            "type": "histogram2dcontour"
           }
          ],
          "mesh3d": [
           {
            "colorbar": {
             "outlinewidth": 0,
             "ticks": ""
            },
            "type": "mesh3d"
           }
          ],
          "parcoords": [
           {
            "line": {
             "colorbar": {
              "outlinewidth": 0,
              "ticks": ""
             }
            },
            "type": "parcoords"
           }
          ],
          "pie": [
           {
            "automargin": true,
            "type": "pie"
           }
          ],
          "scatter": [
           {
            "fillpattern": {
             "fillmode": "overlay",
             "size": 10,
             "solidity": 0.2
            },
            "type": "scatter"
           }
          ],
          "scatter3d": [
           {
            "line": {
             "colorbar": {
              "outlinewidth": 0,
              "ticks": ""
             }
            },
            "marker": {
             "colorbar": {
              "outlinewidth": 0,
              "ticks": ""
             }
            },
            "type": "scatter3d"
           }
          ],
          "scattercarpet": [
           {
            "marker": {
             "colorbar": {
              "outlinewidth": 0,
              "ticks": ""
             }
            },
            "type": "scattercarpet"
           }
          ],
          "scattergeo": [
           {
            "marker": {
             "colorbar": {
              "outlinewidth": 0,
              "ticks": ""
             }
            },
            "type": "scattergeo"
           }
          ],
          "scattergl": [
           {
            "marker": {
             "colorbar": {
              "outlinewidth": 0,
              "ticks": ""
             }
            },
            "type": "scattergl"
           }
          ],
          "scattermapbox": [
           {
            "marker": {
             "colorbar": {
              "outlinewidth": 0,
              "ticks": ""
             }
            },
            "type": "scattermapbox"
           }
          ],
          "scatterpolar": [
           {
            "marker": {
             "colorbar": {
              "outlinewidth": 0,
              "ticks": ""
             }
            },
            "type": "scatterpolar"
           }
          ],
          "scatterpolargl": [
           {
            "marker": {
             "colorbar": {
              "outlinewidth": 0,
              "ticks": ""
             }
            },
            "type": "scatterpolargl"
           }
          ],
          "scatterternary": [
           {
            "marker": {
             "colorbar": {
              "outlinewidth": 0,
              "ticks": ""
             }
            },
            "type": "scatterternary"
           }
          ],
          "surface": [
           {
            "colorbar": {
             "outlinewidth": 0,
             "ticks": ""
            },
            "colorscale": [
             [
              0,
              "#0d0887"
             ],
             [
              0.1111111111111111,
              "#46039f"
             ],
             [
              0.2222222222222222,
              "#7201a8"
             ],
             [
              0.3333333333333333,
              "#9c179e"
             ],
             [
              0.4444444444444444,
              "#bd3786"
             ],
             [
              0.5555555555555556,
              "#d8576b"
             ],
             [
              0.6666666666666666,
              "#ed7953"
             ],
             [
              0.7777777777777778,
              "#fb9f3a"
             ],
             [
              0.8888888888888888,
              "#fdca26"
             ],
             [
              1,
              "#f0f921"
             ]
            ],
            "type": "surface"
           }
          ],
          "table": [
           {
            "cells": {
             "fill": {
              "color": "#EBF0F8"
             },
             "line": {
              "color": "white"
             }
            },
            "header": {
             "fill": {
              "color": "#C8D4E3"
             },
             "line": {
              "color": "white"
             }
            },
            "type": "table"
           }
          ]
         },
         "layout": {
          "annotationdefaults": {
           "arrowcolor": "#2a3f5f",
           "arrowhead": 0,
           "arrowwidth": 1
          },
          "autotypenumbers": "strict",
          "coloraxis": {
           "colorbar": {
            "outlinewidth": 0,
            "ticks": ""
           }
          },
          "colorscale": {
           "diverging": [
            [
             0,
             "#8e0152"
            ],
            [
             0.1,
             "#c51b7d"
            ],
            [
             0.2,
             "#de77ae"
            ],
            [
             0.3,
             "#f1b6da"
            ],
            [
             0.4,
             "#fde0ef"
            ],
            [
             0.5,
             "#f7f7f7"
            ],
            [
             0.6,
             "#e6f5d0"
            ],
            [
             0.7,
             "#b8e186"
            ],
            [
             0.8,
             "#7fbc41"
            ],
            [
             0.9,
             "#4d9221"
            ],
            [
             1,
             "#276419"
            ]
           ],
           "sequential": [
            [
             0,
             "#0d0887"
            ],
            [
             0.1111111111111111,
             "#46039f"
            ],
            [
             0.2222222222222222,
             "#7201a8"
            ],
            [
             0.3333333333333333,
             "#9c179e"
            ],
            [
             0.4444444444444444,
             "#bd3786"
            ],
            [
             0.5555555555555556,
             "#d8576b"
            ],
            [
             0.6666666666666666,
             "#ed7953"
            ],
            [
             0.7777777777777778,
             "#fb9f3a"
            ],
            [
             0.8888888888888888,
             "#fdca26"
            ],
            [
             1,
             "#f0f921"
            ]
           ],
           "sequentialminus": [
            [
             0,
             "#0d0887"
            ],
            [
             0.1111111111111111,
             "#46039f"
            ],
            [
             0.2222222222222222,
             "#7201a8"
            ],
            [
             0.3333333333333333,
             "#9c179e"
            ],
            [
             0.4444444444444444,
             "#bd3786"
            ],
            [
             0.5555555555555556,
             "#d8576b"
            ],
            [
             0.6666666666666666,
             "#ed7953"
            ],
            [
             0.7777777777777778,
             "#fb9f3a"
            ],
            [
             0.8888888888888888,
             "#fdca26"
            ],
            [
             1,
             "#f0f921"
            ]
           ]
          },
          "colorway": [
           "#636efa",
           "#EF553B",
           "#00cc96",
           "#ab63fa",
           "#FFA15A",
           "#19d3f3",
           "#FF6692",
           "#B6E880",
           "#FF97FF",
           "#FECB52"
          ],
          "font": {
           "color": "#2a3f5f"
          },
          "geo": {
           "bgcolor": "white",
           "lakecolor": "white",
           "landcolor": "#E5ECF6",
           "showlakes": true,
           "showland": true,
           "subunitcolor": "white"
          },
          "hoverlabel": {
           "align": "left"
          },
          "hovermode": "closest",
          "mapbox": {
           "style": "light"
          },
          "paper_bgcolor": "white",
          "plot_bgcolor": "#E5ECF6",
          "polar": {
           "angularaxis": {
            "gridcolor": "white",
            "linecolor": "white",
            "ticks": ""
           },
           "bgcolor": "#E5ECF6",
           "radialaxis": {
            "gridcolor": "white",
            "linecolor": "white",
            "ticks": ""
           }
          },
          "scene": {
           "xaxis": {
            "backgroundcolor": "#E5ECF6",
            "gridcolor": "white",
            "gridwidth": 2,
            "linecolor": "white",
            "showbackground": true,
            "ticks": "",
            "zerolinecolor": "white"
           },
           "yaxis": {
            "backgroundcolor": "#E5ECF6",
            "gridcolor": "white",
            "gridwidth": 2,
            "linecolor": "white",
            "showbackground": true,
            "ticks": "",
            "zerolinecolor": "white"
           },
           "zaxis": {
            "backgroundcolor": "#E5ECF6",
            "gridcolor": "white",
            "gridwidth": 2,
            "linecolor": "white",
            "showbackground": true,
            "ticks": "",
            "zerolinecolor": "white"
           }
          },
          "shapedefaults": {
           "line": {
            "color": "#2a3f5f"
           }
          },
          "ternary": {
           "aaxis": {
            "gridcolor": "white",
            "linecolor": "white",
            "ticks": ""
           },
           "baxis": {
            "gridcolor": "white",
            "linecolor": "white",
            "ticks": ""
           },
           "bgcolor": "#E5ECF6",
           "caxis": {
            "gridcolor": "white",
            "linecolor": "white",
            "ticks": ""
           }
          },
          "title": {
           "x": 0.05
          },
          "xaxis": {
           "automargin": true,
           "gridcolor": "white",
           "linecolor": "white",
           "ticks": "",
           "title": {
            "standoff": 15
           },
           "zerolinecolor": "white",
           "zerolinewidth": 2
          },
          "yaxis": {
           "automargin": true,
           "gridcolor": "white",
           "linecolor": "white",
           "ticks": "",
           "title": {
            "standoff": 15
           },
           "zerolinecolor": "white",
           "zerolinewidth": 2
          }
         }
        },
        "title": {
         "text": "Test"
        },
        "xaxis": {
         "anchor": "y",
         "domain": [
          0,
          1
         ],
         "title": {
          "text": "0"
         }
        },
        "yaxis": {
         "anchor": "x",
         "domain": [
          0,
          1
         ],
         "title": {
          "text": "1"
         }
        }
       }
      }
     },
     "metadata": {},
     "output_type": "display_data"
    }
   ],
   "source": [
    "fig = px.scatter(umap_pca_fitted, x=0, y=1, color=labels, title='Test')\n",
    "fig.show()"
   ]
  },
  {
   "cell_type": "code",
   "execution_count": 21,
   "metadata": {},
   "outputs": [
    {
     "data": {
      "image/png": "[encoded data removed]",
      "text/plain": [
       "<Figure size 432x288 with 1 Axes>"
      ]
     },
     "metadata": {
      "needs_background": "light"
     },
     "output_type": "display_data"
    }
   ],
   "source": [
    "plt.scatter(umap_pca_fitted[:,0], umap_pca_fitted[:,1], c=labels)\n",
    "plt.show()"
   ]
  },
  {
   "cell_type": "code",
   "execution_count": 26,
   "metadata": {},
   "outputs": [],
   "source": [
    "umap_2d = UMAP(n_components=2, init='random', random_state=0)\n",
    "umap_3d = UMAP(n_components=3, init='random', random_state=0)"
   ]
  },
  {
   "cell_type": "code",
   "execution_count": 27,
   "metadata": {},
   "outputs": [],
   "source": [
    "proj_2d = umap_2d.fit_transform(scaled_data)\n",
    "proj_3d = umap_3d.fit_transform(scaled_data)"
   ]
  },
  {
   "cell_type": "code",
   "execution_count": 28,
   "metadata": {},
   "outputs": [
    {
     "data": {
      "application/vnd.plotly.v1+json": {
       "config": {
        "plotlyServerURL": "https://plot.ly"
       },
       "data": [
        {
         "hovertemplate": "0=%{x}<br>1=%{y}<br>color=%{marker.color}<extra></extra>",
         "legendgroup": "",
         "marker": {
          "color": [
           1,
           1,
           1,
           2,
           1,
           2,
           1,
           2,
           2,
           2,
           0,
           2,
           1,
           0,
           2,
           2,
           0,
           2,
           1,
           0,
           0,
           0,
           2,
           1,
           1,
           1,
           2,
           1,
           2,
           1,
           1,
           2,
           1,
           1,
           2,
           1,
           2,
           0,
           0,
           2,
           0,
           2,
           1,
           2,
           0,
           1,
           0,
           2,
           0,
           0,
           0,
           0,
           0,
           1,
           0,
           0,
           1,
           2,
           0,
           0,
           0,
           0,
           2,
           0,
           2,
           2,
           0,
           0,
           2,
           0,
           1,
           2,
           1,
           0,
           0,
           1,
           0,
           1,
           1,
           0,
           0,
           2,
           1,
           1,
           0,
           1,
           0,
           1,
           0,
           2,
           0,
           0,
           0,
           0,
           2,
           1,
           0,
           0,
           0,
           2,
           0,
           0,
           0,
           0,
           0,
           2,
           0,
           0,
           1,
           0,
           0,
           2,
           2,
           0,
           0,
           0,
           0,
           2,
           2,
           1,
           0,
           1,
           1,
           0,
           0,
           0,
           0,
           1,
           2,
           1,
           0,
           1,
           1,
           0,
           1,
           0,
           0,
           0,
           1,
           0,
           0,
           1,
           0,
           0,
           0,
           2,
           2,
           0,
           0,
           0,
           0,
           2,
           2,
           0,
           0,
           0,
           1,
           0,
           0,
           0,
           0,
           1,
           1,
           0,
           1,
           0,
           0,
           1,
           1,
           0,
           0,
           0,
           2,
           0,
           0,
           0,
           2,
           2,
           0,
           0,
           1,
           1,
           0,
           0,
           0,
           0,
           0,
           0,
           0,
           0,
           2,
           0,
           0,
           2,
           2,
           0,
           2,
           1,
           1,
           2,
           0,
           1,
           1,
           2,
           0,
           0,
           0,
           0,
           2,
           0,
           1,
           0,
           1,
           2,
           2,
           2,
           0,
           0,
           1,
           1,
           0,
           0,
           0,
           2,
           0,
           0,
           0,
           0,
           0,
           2,
           1,
           0,
           0,
           1,
           0,
           0,
           1,
           1,
           0,
           1,
           0,
           0,
           2,
           0,
           1,
           0,
           0,
           2,
           0,
           0,
           1,
           0,
           1,
           1,
           1,
           2,
           1,
           2,
           1,
           2,
           1,
           0,
           1,
           0,
           1,
           1,
           0,
           0,
           0,
           2,
           0,
           0,
           1,
           0,
           0,
           0,
           0,
           0,
           0,
           0,
           1,
           0,
           1,
           2,
           0,
           0,
           0,
           0,
           2,
           0,
           2,
           0,
           0,
           0,
           0,
           0,
           0,
           0,
           0,
           0,
           1,
           0,
           1,
           0,
           0,
           0,
           0,
           0,
           0,
           0,
           0,
           0,
           0,
           0,
           0,
           0,
           0,
           1,
           2,
           0,
           0,
           1,
           0,
           1,
           0,
           0,
           0,
           0,
           1,
           2,
           2,
           0,
           0,
           0,
           0,
           1,
           0,
           1,
           0,
           1,
           0,
           0,
           0,
           1,
           0,
           0,
           0,
           0,
           0,
           0,
           0,
           2,
           1,
           2,
           0,
           0,
           2,
           0,
           0,
           0,
           0,
           0,
           0,
           0,
           0,
           1,
           1,
           0,
           1,
           1,
           2,
           0,
           1,
           1,
           0,
           0,
           2,
           0,
           0,
           2,
           0,
           0,
           0,
           2,
           0,
           0,
           0,
           0,
           2,
           1,
           0,
           0,
           1,
           1,
           0,
           0,
           0,
           0,
           0,
           0,
           2,
           0,
           0,
           0,
           0,
           0,
           0,
           0,
           1,
           0,
           0,
           0,
           0,
           0,
           0,
           0,
           0,
           1,
           0,
           0,
           0,
           2,
           0,
           0,
           0,
           0,
           0,
           0,
           0,
           0,
           2,
           0,
           1,
           1,
           0,
           2,
           0,
           0,
           0,
           0,
           2,
           1,
           0,
           0,
           1,
           0,
           1,
           0,
           0,
           1,
           0,
           1,
           0,
           0,
           0,
           0,
           0,
           0,
           0,
           0,
           1,
           1,
           0,
           0,
           0,
           2,
           0,
           0,
           1,
           2,
           0,
           0,
           0,
           0,
           0,
           0,
           0,
           0,
           0,
           2,
           0,
           0,
           0,
           0,
           0,
           2,
           0,
           1,
           0,
           0,
           0,
           0,
           1,
           0,
           0,
           0,
           0,
           0,
           1,
           1,
           0,
           2,
           0,
           1,
           2,
           2,
           0,
           2,
           0,
           2,
           0,
           0,
           2,
           0,
           0,
           0,
           1,
           1,
           0,
           0,
           2,
           1,
           0,
           0,
           0,
           0,
           0,
           0,
           0,
           0,
           0,
           0,
           0,
           1,
           0,
           1,
           2,
           2,
           0,
           2,
           0,
           2,
           0,
           0,
           0,
           0,
           0,
           0,
           0,
           0,
           0,
           0,
           0,
           0,
           0,
           0,
           0,
           0,
           0,
           0,
           0,
           0,
           2,
           1,
           1,
           1,
           1,
           1,
           0
          ],
          "coloraxis": "coloraxis",
          "symbol": "circle"
         },
         "mode": "markers",
         "name": "",
         "orientation": "v",
         "showlegend": false,
         "type": "scatter",
         "x": [
          -0.011354364454746246,
          1.6169471740722656,
          0.3079478442668915,
          1.4550549983978271,
          1.3912124633789062,
          2.0210940837860107,
          1.6739768981933594,
          2.1803369522094727,
          2.047837257385254,
          1.6475191116333008,
          3.2807068824768066,
          2.4118471145629883,
          -0.23663365840911865,
          2.675828456878662,
          1.6825698614120483,
          1.8537064790725708,
          2.9839932918548584,
          1.6055234670639038,
          0.6810716986656189,
          12.26512336730957,
          11.9161376953125,
          12.528401374816895,
          1.6930845975875854,
          0.8641003370285034,
          0.811256468296051,
          0.05947015434503555,
          2.1687192916870117,
          1.2437477111816406,
          1.8884775638580322,
          1.8077449798583984,
          0.4307004511356354,
          1.8987561464309692,
          1.063356876373291,
          1.0051058530807495,
          2.403923988342285,
          2.4010872840881348,
          2.8047080039978027,
          14.914063453674316,
          11.990928649902344,
          2.816525936126709,
          3.237426280975342,
          2.7977101802825928,
          -0.26288169622421265,
          2.790756940841675,
          3.0187861919403076,
          0.6061611175537109,
          13.493596076965332,
          2.3391618728637695,
          12.345067024230957,
          14.781384468078613,
          14.649201393127441,
          14.293004989624023,
          13.795042037963867,
          1.2595069408416748,
          3.1685221195220947,
          13.342616081237793,
          0.7427015900611877,
          2.5644240379333496,
          14.810750007629395,
          12.42464828491211,
          12.288551330566406,
          12.365620613098145,
          1.3894306421279907,
          11.87343692779541,
          2.460364580154419,
          2.564180374145508,
          12.50157356262207,
          14.098865509033203,
          9.890145301818848,
          13.740870475769043,
          1.4769744873046875,
          10.123490333557129,
          1.0519558191299438,
          2.9802117347717285,
          13.479096412658691,
          1.7753595113754272,
          12.025212287902832,
          0.07661086320877075,
          -0.3269162178039551,
          12.93081283569336,
          12.232508659362793,
          11.162939071655273,
          -0.4169078469276428,
          0.7784003019332886,
          12.856877326965332,
          1.1242684125900269,
          2.833564519882202,
          1.312160849571228,
          11.676655769348145,
          10.905248641967773,
          14.67541217803955,
          2.661747455596924,
          14.339242935180664,
          13.8370943069458,
          1.8010998964309692,
          0.725304901599884,
          12.805397033691406,
          12.323688507080078,
          12.64854907989502,
          2.7199535369873047,
          3.1727848052978516,
          12.550137519836426,
          15.1439847946167,
          11.799261093139648,
          12.617756843566895,
          1.7786401510238647,
          11.610682487487793,
          13.669157028198242,
          -0.3479384183883667,
          12.674320220947266,
          11.87328815460205,
          10.718260765075684,
          9.974905014038086,
          10.78400707244873,
          12.07623291015625,
          12.608861923217773,
          10.640090942382812,
          1.9488095045089722,
          1.3582494258880615,
          2.3282060623168945,
          12.727912902832031,
          1.142662763595581,
          -0.35098105669021606,
          11.867022514343262,
          10.676314353942871,
          14.122217178344727,
          3.20699405670166,
          2.049021005630493,
          10.871726989746094,
          0.6581834554672241,
          11.8301420211792,
          2.123974323272705,
          2.3047420978546143,
          12.314881324768066,
          1.6941546201705933,
          3.246119260787964,
          12.104475021362305,
          13.363675117492676,
          1.2189234495162964,
          11.459770202636719,
          13.393601417541504,
          1.8472480773925781,
          12.487656593322754,
          12.878450393676758,
          14.538707733154297,
          10.952771186828613,
          1.8766318559646606,
          10.565921783447266,
          11.734705924987793,
          14.478692054748535,
          12.454375267028809,
          10.249606132507324,
          9.900383949279785,
          13.045167922973633,
          11.712451934814453,
          13.271232604980469,
          1.0229110717773438,
          14.805145263671875,
          13.29228401184082,
          14.540485382080078,
          11.741181373596191,
          1.3923009634017944,
          0.34762319922447205,
          11.64809513092041,
          0.60942542552948,
          14.555143356323242,
          13.043578147888184,
          2.0029377937316895,
          0.28744950890541077,
          13.583550453186035,
          12.580805778503418,
          3.1639530658721924,
          1.9604663848876953,
          12.006229400634766,
          14.14622974395752,
          13.622270584106445,
          10.008553504943848,
          1.8979631662368774,
          14.955313682556152,
          14.291337966918945,
          -0.4677022397518158,
          0.007057973183691502,
          2.705686569213867,
          10.740738868713379,
          3.041077136993408,
          13.083779335021973,
          2.2677481174468994,
          13.550057411193848,
          13.271676063537598,
          14.361835479736328,
          1.4923460483551025,
          11.132160186767578,
          14.36738395690918,
          2.2742910385131836,
          1.8811973333358765,
          13.543071746826172,
          2.3075103759765625,
          2.034498453140259,
          1.2949049472808838,
          2.7181038856506348,
          12.247350692749023,
          2.001962661743164,
          -0.13618150353431702,
          1.8068293333053589,
          11.838741302490234,
          2.9367012977600098,
          12.760370254516602,
          2.216752529144287,
          11.259808540344238,
          13.004077911376953,
          0.9046106338500977,
          13.707643508911133,
          -0.3626243472099304,
          10.534000396728516,
          2.160719633102417,
          2.488983392715454,
          10.974939346313477,
          12.686324119567871,
          0.6378482580184937,
          0.9180502891540527,
          12.760175704956055,
          11.891570091247559,
          12.557268142700195,
          2.6798343658447266,
          13.801482200622559,
          12.464676856994629,
          13.073163032531738,
          11.75292682647705,
          10.741634368896484,
          2.037780523300171,
          1.8796231746673584,
          15.313312530517578,
          15.132978439331055,
          1.1873897314071655,
          13.106189727783203,
          14.996768951416016,
          -0.29919952154159546,
          1.5876795053482056,
          15.002870559692383,
          1.0796228647232056,
          13.287309646606445,
          14.585542678833008,
          10.118803977966309,
          14.713811874389648,
          1.0181416273117065,
          12.563637733459473,
          15.036752700805664,
          10.316386222839355,
          13.405152320861816,
          12.425247192382812,
          -0.18823473155498505,
          13.712004661560059,
          0.6750378608703613,
          2.0064024925231934,
          1.343345046043396,
          2.5431337356567383,
          0.2972072660923004,
          1.4819350242614746,
          -0.34329715371131897,
          1.9818079471588135,
          1.1943433284759521,
          3.1685423851013184,
          1.2534831762313843,
          3.223822593688965,
          2.001755714416504,
          0.15573662519454956,
          11.586822509765625,
          14.685857772827148,
          13.252426147460938,
          10.667038917541504,
          14.828450202941895,
          12.59382152557373,
          -0.27278241515159607,
          12.987360954284668,
          2.968971014022827,
          11.541415214538574,
          13.704880714416504,
          2.4142696857452393,
          14.597641944885254,
          13.362847328186035,
          0.7465628385543823,
          13.260231018066406,
          1.2336491346359253,
          2.008435010910034,
          10.730663299560547,
          14.758326530456543,
          10.412995338439941,
          14.772869110107422,
          10.723514556884766,
          13.475386619567871,
          10.010436058044434,
          11.170672416687012,
          11.78911018371582,
          13.343992233276367,
          13.288122177124023,
          13.390669822692871,
          14.669095039367676,
          12.023519515991211,
          14.56806468963623,
          12.870716094970703,
          -0.13481022417545319,
          10.925256729125977,
          -0.2682425081729889,
          12.335615158081055,
          13.880715370178223,
          13.892141342163086,
          14.070643424987793,
          13.85278034210205,
          14.823354721069336,
          14.73900318145752,
          13.48254680633545,
          14.602256774902344,
          12.606526374816895,
          13.096899032592773,
          12.591971397399902,
          14.6973876953125,
          14.797012329101562,
          1.8501479625701904,
          10.102455139160156,
          14.864842414855957,
          10.833534240722656,
          2.017343521118164,
          12.274190902709961,
          0.3512769043445587,
          13.78888988494873,
          13.424362182617188,
          14.032767295837402,
          14.729328155517578,
          2.154134511947632,
          1.4661006927490234,
          2.0150935649871826,
          11.41485595703125,
          12.85572338104248,
          14.267066955566406,
          14.784991264343262,
          1.021049976348877,
          12.311915397644043,
          0.8079975247383118,
          12.723514556884766,
          -0.23773035407066345,
          11.30663013458252,
          11.399539947509766,
          11.900765419006348,
          0.7948395609855652,
          12.170430183410645,
          11.841472625732422,
          14.327423095703125,
          12.57727336883545,
          12.890804290771484,
          12.2701416015625,
          14.698622703552246,
          1.4116463661193848,
          -0.4654156267642975,
          2.167437791824341,
          11.304527282714844,
          10.707256317138672,
          10.885716438293457,
          14.393506050109863,
          11.97817325592041,
          12.274697303771973,
          14.874503135681152,
          14.940272331237793,
          13.21172046661377,
          14.405844688415527,
          13.817463874816895,
          1.5607357025146484,
          0.683394730091095,
          13.080123901367188,
          -0.08794475346803665,
          -0.28913986682891846,
          2.069628953933716,
          13.207138061523438,
          1.2075183391571045,
          1.3607314825057983,
          13.205510139465332,
          11.718938827514648,
          9.965676307678223,
          15.258150100708008,
          12.470427513122559,
          1.7678375244140625,
          11.799203872680664,
          13.357307434082031,
          10.484672546386719,
          11.102638244628906,
          12.778695106506348,
          3.0332775115966797,
          10.887431144714355,
          14.68861198425293,
          10.275786399841309,
          0.8481074571609497,
          12.795694351196289,
          12.888511657714844,
          1.510879635810852,
          0.17351855337619781,
          12.5890474319458,
          14.942438125610352,
          11.577469825744629,
          10.724945068359375,
          13.875373840332031,
          13.364969253540039,
          1.252561330795288,
          13.502245903015137,
          13.04533863067627,
          13.104708671569824,
          14.693931579589844,
          12.096795082092285,
          12.535587310791016,
          10.60440444946289,
          1.776703119277954,
          13.398770332336426,
          14.637216567993164,
          12.910896301269531,
          14.131237983703613,
          10.973773956298828,
          3.1602938175201416,
          12.449872970581055,
          12.65861701965332,
          0.006783093325793743,
          12.783818244934082,
          13.381814002990723,
          12.843069076538086,
          10.763742446899414,
          12.031632423400879,
          10.948213577270508,
          12.355493545532227,
          14.508378982543945,
          11.07642936706543,
          13.275474548339844,
          14.674153327941895,
          14.778858184814453,
          1.5307985544204712,
          10.986300468444824,
          0.8079414367675781,
          0.8823535442352295,
          13.620097160339355,
          2.8988656997680664,
          13.319611549377441,
          13.617880821228027,
          14.903582572937012,
          14.185115814208984,
          10.413163185119629,
          1.9892005920410156,
          14.434619903564453,
          13.08837604522705,
          1.9789272546768188,
          11.822917938232422,
          1.1099060773849487,
          13.057445526123047,
          10.673686981201172,
          1.0453956127166748,
          10.409808158874512,
          1.4748005867004395,
          14.953241348266602,
          12.172211647033691,
          13.385061264038086,
          15.073803901672363,
          14.716390609741211,
          15.210200309753418,
          15.228142738342285,
          15.136005401611328,
          1.0378437042236328,
          -0.3285733163356781,
          15.212604522705078,
          13.418359756469727,
          13.999117851257324,
          10.272174835205078,
          10.68960189819336,
          13.283921241760254,
          0.4130014479160309,
          10.93867301940918,
          12.821932792663574,
          14.405423164367676,
          12.755513191223145,
          14.410757064819336,
          11.384799003601074,
          12.622875213623047,
          10.698322296142578,
          14.525399208068848,
          12.015719413757324,
          1.7897059917449951,
          13.759479522705078,
          14.42780590057373,
          11.777273178100586,
          13.429770469665527,
          11.90772819519043,
          10.041044235229492,
          14.419915199279785,
          0.7736436724662781,
          12.016715049743652,
          2.83728289604187,
          14.654603958129883,
          14.221996307373047,
          1.2011888027191162,
          14.804617881774902,
          14.826251029968262,
          14.612367630004883,
          11.378267288208008,
          13.303305625915527,
          1.241501808166504,
          0.752546489238739,
          12.11919116973877,
          2.1358983516693115,
          12.041075706481934,
          -0.2238602489233017,
          10.776124000549316,
          10.751752853393555,
          11.934120178222656,
          10.989357948303223,
          12.412214279174805,
          1.6160428524017334,
          10.771639823913574,
          13.696219444274902,
          2.3596761226654053,
          12.433475494384766,
          3.1187267303466797,
          12.283425331115723,
          1.6249020099639893,
          1.3929184675216675,
          11.579924583435059,
          11.966361999511719,
          11.333559036254883,
          -0.4763067662715912,
          14.490426063537598,
          11.623779296875,
          12.146029472351074,
          12.24733829498291,
          11.840158462524414,
          13.206396102905273,
          11.245774269104004,
          12.432265281677246,
          12.215595245361328,
          12.155216217041016,
          13.519018173217773,
          0.8248998522758484,
          11.665056228637695,
          0.4677866995334625,
          2.8553154468536377,
          11.104567527770996,
          13.340624809265137,
          10.487127304077148,
          10.959121704101562,
          10.98408317565918,
          14.846517562866211,
          15.170031547546387,
          12.73005199432373,
          14.86540412902832,
          13.623149871826172,
          11.807280540466309,
          14.171760559082031,
          13.81303596496582,
          14.660216331481934,
          12.738823890686035,
          15.137454986572266,
          12.747862815856934,
          15.101683616638184,
          14.725418090820312,
          12.783669471740723,
          14.249058723449707,
          10.579736709594727,
          14.771130561828613,
          14.727566719055176,
          14.467025756835938,
          1.78562331199646,
          -0.25073954463005066,
          -0.033050213009119034,
          0.9665554165840149,
          2.5390512943267822,
          -0.11302491277456284,
          14.613988876342773
         ],
         "xaxis": "x",
         "y": [
          3.3564887046813965,
          4.256130695343018,
          3.6640572547912598,
          2.0009043216705322,
          4.953792095184326,
          2.071237564086914,
          4.017651081085205,
          2.348325252532959,
          2.1683499813079834,
          1.8838965892791748,
          4.335820198059082,
          2.7706453800201416,
          3.511349678039551,
          4.2652201652526855,
          1.9083751440048218,
          1.9631401300430298,
          3.981358051300049,
          2.5934994220733643,
          4.3663554191589355,
          3.0347797870635986,
          3.4918293952941895,
          4.460118770599365,
          2.5148041248321533,
          4.35952091217041,
          4.0457024574279785,
          3.3243911266326904,
          2.1635396480560303,
          5.218273162841797,
          2.585512399673462,
          4.615592956542969,
          3.6467456817626953,
          1.9912629127502441,
          3.237431287765503,
          3.4605185985565186,
          2.558647394180298,
          2.7139410972595215,
          2.6242105960845947,
          4.515582084655762,
          6.348262310028076,
          2.8409242630004883,
          4.2165846824646,
          2.619438886642456,
          3.441319227218628,
          2.6191060543060303,
          3.089473009109497,
          3.4646706581115723,
          5.037349224090576,
          2.33160400390625,
          3.6763064861297607,
          5.14099645614624,
          4.375936508178711,
          2.574139356613159,
          4.111220359802246,
          5.0826287269592285,
          4.094248294830322,
          5.04848051071167,
          4.285058498382568,
          2.5480270385742188,
          4.072036266326904,
          4.8187761306762695,
          5.32732629776001,
          6.110514163970947,
          2.496189594268799,
          5.237066268920898,
          2.514951705932617,
          2.8746635913848877,
          6.136622428894043,
          4.137042045593262,
          5.167663097381592,
          3.8107664585113525,
          4.329745769500732,
          5.319814205169678,
          2.8734099864959717,
          3.1562044620513916,
          3.32092547416687,
          4.967111110687256,
          4.6070404052734375,
          3.4589338302612305,
          3.349940299987793,
          4.021606922149658,
          5.874332904815674,
          3.7932634353637695,
          4.1465253829956055,
          5.2068657875061035,
          4.666733264923096,
          4.974231719970703,
          3.845095157623291,
          3.882786273956299,
          4.51239013671875,
          4.871243953704834,
          5.144648551940918,
          4.209937572479248,
          2.417705535888672,
          4.379474639892578,
          3.1196656227111816,
          4.885029315948486,
          4.6264519691467285,
          6.025210857391357,
          3.445528745651245,
          3.3877952098846436,
          4.081329345703125,
          5.391204833984375,
          5.201723098754883,
          5.098837375640869,
          5.30650520324707,
          2.1945579051971436,
          5.242255210876465,
          3.5023694038391113,
          3.58793568611145,
          4.273645877838135,
          6.0593695640563965,
          5.482324123382568,
          5.073194980621338,
          5.6576080322265625,
          4.850139141082764,
          4.2519731521606445,
          5.459587097167969,
          2.6015889644622803,
          2.3854618072509766,
          4.711267948150635,
          3.4805476665496826,
          5.1035590171813965,
          3.6129274368286133,
          2.9526381492614746,
          4.1303534507751465,
          2.802924156188965,
          3.774806261062622,
          4.736878871917725,
          5.013875961303711,
          3.632042407989502,
          3.938917875289917,
          3.742455005645752,
          3.6620612144470215,
          2.6214373111724854,
          4.220667839050293,
          4.073404312133789,
          6.08199405670166,
          3.5716071128845215,
          5.210882663726807,
          5.47254753112793,
          4.337145805358887,
          4.869791030883789,
          5.745106220245361,
          3.6245229244232178,
          3.608757257461548,
          5.772914886474609,
          2.3204634189605713,
          4.688655376434326,
          2.879741907119751,
          2.4201738834381104,
          5.141002178192139,
          5.368212699890137,
          5.095108985900879,
          4.238897800445557,
          3.7826781272888184,
          4.307097434997559,
          5.065776348114014,
          5.255317687988281,
          3.095658302307129,
          3.545304298400879,
          5.281668186187744,
          5.211487770080566,
          3.746361494064331,
          5.752790927886963,
          4.4395952224731445,
          2.563901901245117,
          3.104358434677124,
          4.842616558074951,
          4.1997575759887695,
          3.003814220428467,
          3.8559820652008057,
          4.138708114624023,
          2.9866392612457275,
          5.995833873748779,
          4.554331302642822,
          4.716907501220703,
          5.176390647888184,
          3.0937304496765137,
          2.966766595840454,
          3.0789337158203125,
          4.38466739654541,
          3.5615994930267334,
          3.8727569580078125,
          4.320373058319092,
          3.404867649078369,
          5.678877353668213,
          4.200142860412598,
          3.6583054065704346,
          5.612060546875,
          3.448413848876953,
          1.996568202972412,
          4.846020221710205,
          5.708249568939209,
          2.3604016304016113,
          3.034672260284424,
          3.620806932449341,
          2.9488842487335205,
          4.840335845947266,
          4.006222724914551,
          2.6413488388061523,
          4.583025932312012,
          3.980262517929077,
          3.668022871017456,
          2.3770077228546143,
          4.2424235343933105,
          3.315107822418213,
          5.6471357345581055,
          4.757441520690918,
          3.745654344558716,
          2.492215394973755,
          5.167537689208984,
          3.7200074195861816,
          4.297195911407471,
          5.426319599151611,
          2.4816317558288574,
          2.446171522140503,
          5.2157697677612305,
          5.234111309051514,
          4.731147766113281,
          4.344996452331543,
          3.096294641494751,
          3.2484514713287354,
          5.4140729904174805,
          2.6977057456970215,
          2.6992716789245605,
          2.8795502185821533,
          4.367925643920898,
          2.929250955581665,
          3.528994560241699,
          2.088038682937622,
          3.250622510910034,
          5.415765762329102,
          5.698268413543701,
          4.374199390411377,
          5.215571880340576,
          4.998424530029297,
          4.389337539672852,
          4.491323947906494,
          5.974091053009033,
          4.089710712432861,
          2.6725237369537354,
          3.3233933448791504,
          4.933578014373779,
          5.242621898651123,
          5.041115760803223,
          6.181191444396973,
          4.774310111999512,
          4.290099620819092,
          5.62910795211792,
          4.038695812225342,
          3.884824275970459,
          4.3565673828125,
          3.1681904792785645,
          3.9170033931732178,
          3.92376446723938,
          3.3093645572662354,
          4.0675764083862305,
          2.398406982421875,
          3.5631043910980225,
          2.193669557571411,
          4.173187255859375,
          4.332409858703613,
          5.21043062210083,
          4.289496898651123,
          3.952641725540161,
          4.509927749633789,
          5.151811599731445,
          5.378250598907471,
          4.609329700469971,
          5.434796333312988,
          2.7944753170013428,
          3.709040880203247,
          4.292182922363281,
          5.6888885498046875,
          4.366428852081299,
          5.646086692810059,
          4.428580284118652,
          4.464765548706055,
          2.64499831199646,
          3.256946563720703,
          3.755711317062378,
          4.904125213623047,
          3.8406918048858643,
          3.0471034049987793,
          4.260796070098877,
          4.230851650238037,
          4.570537090301514,
          2.9491522312164307,
          5.245975017547607,
          5.408346652984619,
          5.1101789474487305,
          3.315365791320801,
          3.9249494075775146,
          4.574889183044434,
          3.0437042713165283,
          2.931807041168213,
          3.5846776962280273,
          6.214908123016357,
          2.4761006832122803,
          5.970158100128174,
          4.050777912139893,
          4.680491924285889,
          3.6606032848358154,
          5.986641883850098,
          3.8883466720581055,
          5.515396595001221,
          3.0162346363067627,
          4.689948558807373,
          2.997631311416626,
          3.0248022079467773,
          5.212172985076904,
          2.5890309810638428,
          3.1025829315185547,
          3.649071216583252,
          6.191566467285156,
          3.2723288536071777,
          3.3815674781799316,
          3.9396467208862305,
          5.198285102844238,
          4.112270832061768,
          5.733213901519775,
          4.589871406555176,
          3.714399814605713,
          3.5510873794555664,
          3.2165443897247314,
          3.963468074798584,
          2.9120118618011475,
          3.3710904121398926,
          3.454190969467163,
          4.9765214920043945,
          3.3519792556762695,
          3.7022948265075684,
          6.031642913818359,
          3.929612874984741,
          4.62816858291626,
          5.1190032958984375,
          3.410916805267334,
          4.676262378692627,
          5.7150959968566895,
          4.473719120025635,
          3.331158399581909,
          4.440796852111816,
          4.039317607879639,
          5.00766658782959,
          4.526782989501953,
          6.0259175300598145,
          4.490898609161377,
          2.509455680847168,
          4.265602111816406,
          4.9814276695251465,
          3.664177417755127,
          2.328003406524658,
          4.289738655090332,
          3.523115873336792,
          4.631173610687256,
          4.711767196655273,
          5.094048976898193,
          2.9769163131713867,
          5.057423114776611,
          5.966363906860352,
          3.3660168647766113,
          5.1016340255737305,
          4.4784088134765625,
          4.78886604309082,
          2.8702476024627686,
          4.278921604156494,
          5.100864887237549,
          3.825972557067871,
          4.517917156219482,
          4.323051929473877,
          2.6269116401672363,
          2.4598746299743652,
          3.8705201148986816,
          4.234947204589844,
          3.3846023082733154,
          3.1532840728759766,
          5.0595598220825195,
          5.591517925262451,
          3.2277872562408447,
          1.956903100013733,
          4.296395301818848,
          4.159867286682129,
          4.431443214416504,
          4.314277172088623,
          2.7286570072174072,
          4.072261810302734,
          4.14072847366333,
          2.6069488525390625,
          4.995606422424316,
          5.267613410949707,
          3.8884925842285156,
          5.821028709411621,
          2.849536657333374,
          3.5549607276916504,
          5.084917068481445,
          4.75239372253418,
          3.66241717338562,
          4.288706302642822,
          3.2535693645477295,
          4.143646240234375,
          2.671987771987915,
          3.0839457511901855,
          4.890128135681152,
          3.5563290119171143,
          3.706930160522461,
          5.928450107574463,
          2.5024099349975586,
          4.6678466796875,
          3.6865291595458984,
          5.208315372467041,
          5.054436206817627,
          4.77811336517334,
          4.246142387390137,
          3.3921430110931396,
          4.380372047424316,
          5.086600303649902,
          6.094854831695557,
          3.9608352184295654,
          3.302767753601074,
          5.589685440063477,
          5.146317481994629,
          5.058399677276611,
          3.991928815841675,
          3.4285693168640137,
          5.464646339416504,
          4.255032539367676,
          4.762328147888184,
          5.38374137878418,
          3.6758580207824707,
          3.4974474906921387,
          2.369081497192383,
          5.623587131500244,
          3.685900926589966,
          5.07174825668335,
          2.6024389266967773,
          2.9026107788085938,
          4.186855316162109,
          2.750514507293701,
          4.821283340454102,
          2.4688327312469482,
          4.487508296966553,
          4.313471794128418,
          2.996540069580078,
          5.528707981109619,
          3.9516196250915527,
          4.798084735870361,
          4.1038079261779785,
          3.4533891677856445,
          3.4788761138916016,
          4.384579181671143,
          4.536750316619873,
          4.673750400543213,
          5.994370460510254,
          2.806384801864624,
          3.3788952827453613,
          5.832734107971191,
          6.086289405822754,
          5.57966947555542,
          5.43058443069458,
          5.684446811676025,
          4.79753303527832,
          4.415209770202637,
          5.555685997009277,
          3.789473533630371,
          2.5859851837158203,
          4.411775588989258,
          3.5925793647766113,
          5.688155651092529,
          3.7418980598449707,
          5.795795917510986,
          5.3171820640563965,
          5.772439002990723,
          2.539034843444824,
          5.813530921936035,
          4.287903785705566,
          3.2357165813446045,
          3.502903699874878,
          2.49275541305542,
          4.032701015472412,
          2.874483108520508,
          3.7270586490631104,
          2.4917755126953125,
          3.3226213455200195,
          3.2522192001342773,
          2.873997449874878,
          5.088716506958008,
          2.4423115253448486,
          3.7453668117523193,
          4.645571708679199,
          4.326784610748291,
          5.039348602294922,
          2.5032854080200195,
          5.149604797363281,
          3.8826940059661865,
          4.821277141571045,
          4.942683696746826,
          3.7990376949310303,
          3.4670770168304443,
          4.867504119873047,
          3.8266050815582275,
          2.9719293117523193,
          2.395294189453125,
          4.75999641418457,
          4.416599273681641,
          5.897293567657471,
          5.843930244445801,
          4.182716369628906,
          5.80283260345459,
          2.5481009483337402,
          2.5075953006744385,
          4.339420318603516,
          2.4631848335266113,
          2.351912260055542,
          2.5870933532714844,
          4.143415451049805,
          4.955799102783203,
          3.9038949012756348,
          4.040313720703125,
          4.129576206207275,
          4.424715042114258,
          5.7652974128723145,
          4.193488121032715,
          4.206615924835205,
          4.116631031036377,
          5.729878902435303,
          4.696333408355713,
          3.685472249984741,
          3.16829776763916,
          5.567758083343506,
          3.7072558403015137,
          5.833500385284424,
          4.095828056335449,
          2.9619336128234863,
          5.113501071929932,
          5.514442443847656,
          3.8403053283691406,
          3.607851028442383,
          5.943813800811768,
          5.767160415649414,
          5.616779327392578,
          5.57912015914917,
          3.6759510040283203,
          5.300106525421143,
          5.6856818199157715,
          3.974099636077881,
          5.2126970291137695,
          4.405571937561035,
          5.4172868728637695,
          4.5477166175842285,
          5.641759395599365,
          4.3906569480896,
          5.216983795166016,
          5.765081882476807,
          6.0356831550598145,
          5.830162525177002,
          6.202499866485596,
          5.943985462188721,
          5.806661605834961,
          3.8130035400390625,
          6.138611793518066,
          5.7117133140563965,
          5.789378643035889,
          2.0970418453216553,
          3.7752439975738525,
          4.35068941116333,
          4.821013450622559,
          4.324590682983398,
          3.494330883026123,
          4.52598237991333
         ],
         "yaxis": "y"
        }
       ],
       "layout": {
        "coloraxis": {
         "colorbar": {
          "title": {
           "text": "color"
          }
         },
         "colorscale": [
          [
           0,
           "#0d0887"
          ],
          [
           0.1111111111111111,
           "#46039f"
          ],
          [
           0.2222222222222222,
           "#7201a8"
          ],
          [
           0.3333333333333333,
           "#9c179e"
          ],
          [
           0.4444444444444444,
           "#bd3786"
          ],
          [
           0.5555555555555556,
           "#d8576b"
          ],
          [
           0.6666666666666666,
           "#ed7953"
          ],
          [
           0.7777777777777778,
           "#fb9f3a"
          ],
          [
           0.8888888888888888,
           "#fdca26"
          ],
          [
           1,
           "#f0f921"
          ]
         ]
        },
        "legend": {
         "tracegroupgap": 0
        },
        "margin": {
         "t": 60
        },
        "template": {
         "data": {
          "bar": [
           {
            "error_x": {
             "color": "#2a3f5f"
            },
            "error_y": {
             "color": "#2a3f5f"
            },
            "marker": {
             "line": {
              "color": "#E5ECF6",
              "width": 0.5
             },
             "pattern": {
              "fillmode": "overlay",
              "size": 10,
              "solidity": 0.2
             }
            },
            "type": "bar"
           }
          ],
          "barpolar": [
           {
            "marker": {
             "line": {
              "color": "#E5ECF6",
              "width": 0.5
             },
             "pattern": {
              "fillmode": "overlay",
              "size": 10,
              "solidity": 0.2
             }
            },
            "type": "barpolar"
           }
          ],
          "carpet": [
           {
            "aaxis": {
             "endlinecolor": "#2a3f5f",
             "gridcolor": "white",
             "linecolor": "white",
             "minorgridcolor": "white",
             "startlinecolor": "#2a3f5f"
            },
            "baxis": {
             "endlinecolor": "#2a3f5f",
             "gridcolor": "white",
             "linecolor": "white",
             "minorgridcolor": "white",
             "startlinecolor": "#2a3f5f"
            },
            "type": "carpet"
           }
          ],
          "choropleth": [
           {
            "colorbar": {
             "outlinewidth": 0,
             "ticks": ""
            },
            "type": "choropleth"
           }
          ],
          "contour": [
           {
            "colorbar": {
             "outlinewidth": 0,
             "ticks": ""
            },
            "colorscale": [
             [
              0,
              "#0d0887"
             ],
             [
              0.1111111111111111,
              "#46039f"
             ],
             [
              0.2222222222222222,
              "#7201a8"
             ],
             [
              0.3333333333333333,
              "#9c179e"
             ],
             [
              0.4444444444444444,
              "#bd3786"
             ],
             [
              0.5555555555555556,
              "#d8576b"
             ],
             [
              0.6666666666666666,
              "#ed7953"
             ],
             [
              0.7777777777777778,
              "#fb9f3a"
             ],
             [
              0.8888888888888888,
              "#fdca26"
             ],
             [
              1,
              "#f0f921"
             ]
            ],
            "type": "contour"
           }
          ],
          "contourcarpet": [
           {
            "colorbar": {
             "outlinewidth": 0,
             "ticks": ""
            },
            "type": "contourcarpet"
           }
          ],
          "heatmap": [
           {
            "colorbar": {
             "outlinewidth": 0,
             "ticks": ""
            },
            "colorscale": [
             [
              0,
              "#0d0887"
             ],
             [
              0.1111111111111111,
              "#46039f"
             ],
             [
              0.2222222222222222,
              "#7201a8"
             ],
             [
              0.3333333333333333,
              "#9c179e"
             ],
             [
              0.4444444444444444,
              "#bd3786"
             ],
             [
              0.5555555555555556,
              "#d8576b"
             ],
             [
              0.6666666666666666,
              "#ed7953"
             ],
             [
              0.7777777777777778,
              "#fb9f3a"
             ],
             [
              0.8888888888888888,
              "#fdca26"
             ],
             [
              1,
              "#f0f921"
             ]
            ],
            "type": "heatmap"
           }
          ],
          "heatmapgl": [
           {
            "colorbar": {
             "outlinewidth": 0,
             "ticks": ""
            },
            "colorscale": [
             [
              0,
              "#0d0887"
             ],
             [
              0.1111111111111111,
              "#46039f"
             ],
             [
              0.2222222222222222,
              "#7201a8"
             ],
             [
              0.3333333333333333,
              "#9c179e"
             ],
             [
              0.4444444444444444,
              "#bd3786"
             ],
             [
              0.5555555555555556,
              "#d8576b"
             ],
             [
              0.6666666666666666,
              "#ed7953"
             ],
             [
              0.7777777777777778,
              "#fb9f3a"
             ],
             [
              0.8888888888888888,
              "#fdca26"
             ],
             [
              1,
              "#f0f921"
             ]
            ],
            "type": "heatmapgl"
           }
          ],
          "histogram": [
           {
            "marker": {
             "pattern": {
              "fillmode": "overlay",
              "size": 10,
              "solidity": 0.2
             }
            },
            "type": "histogram"
           }
          ],
          "histogram2d": [
           {
            "colorbar": {
             "outlinewidth": 0,
             "ticks": ""
            },
            "colorscale": [
             [
              0,
              "#0d0887"
             ],
             [
              0.1111111111111111,
              "#46039f"
             ],
             [
              0.2222222222222222,
              "#7201a8"
             ],
             [
              0.3333333333333333,
              "#9c179e"
             ],
             [
              0.4444444444444444,
              "#bd3786"
             ],
             [
              0.5555555555555556,
              "#d8576b"
             ],
             [
              0.6666666666666666,
              "#ed7953"
             ],
             [
              0.7777777777777778,
              "#fb9f3a"
             ],
             [
              0.8888888888888888,
              "#fdca26"
             ],
             [
              1,
              "#f0f921"
             ]
            ],
            "type": "histogram2d"
           }
          ],
          "histogram2dcontour": [
           {
            "colorbar": {
             "outlinewidth": 0,
             "ticks": ""
            },
            "colorscale": [
             [
              0,
              "#0d0887"
             ],
             [
              0.1111111111111111,
              "#46039f"
             ],
             [
              0.2222222222222222,
              "#7201a8"
             ],
             [
              0.3333333333333333,
              "#9c179e"
             ],
             [
              0.4444444444444444,
              "#bd3786"
             ],
             [
              0.5555555555555556,
              "#d8576b"
             ],
             [
              0.6666666666666666,
              "#ed7953"
             ],
             [
              0.7777777777777778,
              "#fb9f3a"
             ],
             [
              0.8888888888888888,
              "#fdca26"
             ],
             [
              1,
              "#f0f921"
             ]
            ],
            "type": "histogram2dcontour"
           }
          ],
          "mesh3d": [
           {
            "colorbar": {
             "outlinewidth": 0,
             "ticks": ""
            },
            "type": "mesh3d"
           }
          ],
          "parcoords": [
           {
            "line": {
             "colorbar": {
              "outlinewidth": 0,
              "ticks": ""
             }
            },
            "type": "parcoords"
           }
          ],
          "pie": [
           {
            "automargin": true,
            "type": "pie"
           }
          ],
          "scatter": [
           {
            "fillpattern": {
             "fillmode": "overlay",
             "size": 10,
             "solidity": 0.2
            },
            "type": "scatter"
           }
          ],
          "scatter3d": [
           {
            "line": {
             "colorbar": {
              "outlinewidth": 0,
              "ticks": ""
             }
            },
            "marker": {
             "colorbar": {
              "outlinewidth": 0,
              "ticks": ""
             }
            },
            "type": "scatter3d"
           }
          ],
          "scattercarpet": [
           {
            "marker": {
             "colorbar": {
              "outlinewidth": 0,
              "ticks": ""
             }
            },
            "type": "scattercarpet"
           }
          ],
          "scattergeo": [
           {
            "marker": {
             "colorbar": {
              "outlinewidth": 0,
              "ticks": ""
             }
            },
            "type": "scattergeo"
           }
          ],
          "scattergl": [
           {
            "marker": {
             "colorbar": {
              "outlinewidth": 0,
              "ticks": ""
             }
            },
            "type": "scattergl"
           }
          ],
          "scattermapbox": [
           {
            "marker": {
             "colorbar": {
              "outlinewidth": 0,
              "ticks": ""
             }
            },
            "type": "scattermapbox"
           }
          ],
          "scatterpolar": [
           {
            "marker": {
             "colorbar": {
              "outlinewidth": 0,
              "ticks": ""
             }
            },
            "type": "scatterpolar"
           }
          ],
          "scatterpolargl": [
           {
            "marker": {
             "colorbar": {
              "outlinewidth": 0,
              "ticks": ""
             }
            },
            "type": "scatterpolargl"
           }
          ],
          "scatterternary": [
           {
            "marker": {
             "colorbar": {
              "outlinewidth": 0,
              "ticks": ""
             }
            },
            "type": "scatterternary"
           }
          ],
          "surface": [
           {
            "colorbar": {
             "outlinewidth": 0,
             "ticks": ""
            },
            "colorscale": [
             [
              0,
              "#0d0887"
             ],
             [
              0.1111111111111111,
              "#46039f"
             ],
             [
              0.2222222222222222,
              "#7201a8"
             ],
             [
              0.3333333333333333,
              "#9c179e"
             ],
             [
              0.4444444444444444,
              "#bd3786"
             ],
             [
              0.5555555555555556,
              "#d8576b"
             ],
             [
              0.6666666666666666,
              "#ed7953"
             ],
             [
              0.7777777777777778,
              "#fb9f3a"
             ],
             [
              0.8888888888888888,
              "#fdca26"
             ],
             [
              1,
              "#f0f921"
             ]
            ],
            "type": "surface"
           }
          ],
          "table": [
           {
            "cells": {
             "fill": {
              "color": "#EBF0F8"
             },
             "line": {
              "color": "white"
             }
            },
            "header": {
             "fill": {
              "color": "#C8D4E3"
             },
             "line": {
              "color": "white"
             }
            },
            "type": "table"
           }
          ]
         },
         "layout": {
          "annotationdefaults": {
           "arrowcolor": "#2a3f5f",
           "arrowhead": 0,
           "arrowwidth": 1
          },
          "autotypenumbers": "strict",
          "coloraxis": {
           "colorbar": {
            "outlinewidth": 0,
            "ticks": ""
           }
          },
          "colorscale": {
           "diverging": [
            [
             0,
             "#8e0152"
            ],
            [
             0.1,
             "#c51b7d"
            ],
            [
             0.2,
             "#de77ae"
            ],
            [
             0.3,
             "#f1b6da"
            ],
            [
             0.4,
             "#fde0ef"
            ],
            [
             0.5,
             "#f7f7f7"
            ],
            [
             0.6,
             "#e6f5d0"
            ],
            [
             0.7,
             "#b8e186"
            ],
            [
             0.8,
             "#7fbc41"
            ],
            [
             0.9,
             "#4d9221"
            ],
            [
             1,
             "#276419"
            ]
           ],
           "sequential": [
            [
             0,
             "#0d0887"
            ],
            [
             0.1111111111111111,
             "#46039f"
            ],
            [
             0.2222222222222222,
             "#7201a8"
            ],
            [
             0.3333333333333333,
             "#9c179e"
            ],
            [
             0.4444444444444444,
             "#bd3786"
            ],
            [
             0.5555555555555556,
             "#d8576b"
            ],
            [
             0.6666666666666666,
             "#ed7953"
            ],
            [
             0.7777777777777778,
             "#fb9f3a"
            ],
            [
             0.8888888888888888,
             "#fdca26"
            ],
            [
             1,
             "#f0f921"
            ]
           ],
           "sequentialminus": [
            [
             0,
             "#0d0887"
            ],
            [
             0.1111111111111111,
             "#46039f"
            ],
            [
             0.2222222222222222,
             "#7201a8"
            ],
            [
             0.3333333333333333,
             "#9c179e"
            ],
            [
             0.4444444444444444,
             "#bd3786"
            ],
            [
             0.5555555555555556,
             "#d8576b"
            ],
            [
             0.6666666666666666,
             "#ed7953"
            ],
            [
             0.7777777777777778,
             "#fb9f3a"
            ],
            [
             0.8888888888888888,
             "#fdca26"
            ],
            [
             1,
             "#f0f921"
            ]
           ]
          },
          "colorway": [
           "#636efa",
           "#EF553B",
           "#00cc96",
           "#ab63fa",
           "#FFA15A",
           "#19d3f3",
           "#FF6692",
           "#B6E880",
           "#FF97FF",
           "#FECB52"
          ],
          "font": {
           "color": "#2a3f5f"
          },
          "geo": {
           "bgcolor": "white",
           "lakecolor": "white",
           "landcolor": "#E5ECF6",
           "showlakes": true,
           "showland": true,
           "subunitcolor": "white"
          },
          "hoverlabel": {
           "align": "left"
          },
          "hovermode": "closest",
          "mapbox": {
           "style": "light"
          },
          "paper_bgcolor": "white",
          "plot_bgcolor": "#E5ECF6",
          "polar": {
           "angularaxis": {
            "gridcolor": "white",
            "linecolor": "white",
            "ticks": ""
           },
           "bgcolor": "#E5ECF6",
           "radialaxis": {
            "gridcolor": "white",
            "linecolor": "white",
            "ticks": ""
           }
          },
          "scene": {
           "xaxis": {
            "backgroundcolor": "#E5ECF6",
            "gridcolor": "white",
            "gridwidth": 2,
            "linecolor": "white",
            "showbackground": true,
            "ticks": "",
            "zerolinecolor": "white"
           },
           "yaxis": {
            "backgroundcolor": "#E5ECF6",
            "gridcolor": "white",
            "gridwidth": 2,
            "linecolor": "white",
            "showbackground": true,
            "ticks": "",
            "zerolinecolor": "white"
           },
           "zaxis": {
            "backgroundcolor": "#E5ECF6",
            "gridcolor": "white",
            "gridwidth": 2,
            "linecolor": "white",
            "showbackground": true,
            "ticks": "",
            "zerolinecolor": "white"
           }
          },
          "shapedefaults": {
           "line": {
            "color": "#2a3f5f"
           }
          },
          "ternary": {
           "aaxis": {
            "gridcolor": "white",
            "linecolor": "white",
            "ticks": ""
           },
           "baxis": {
            "gridcolor": "white",
            "linecolor": "white",
            "ticks": ""
           },
           "bgcolor": "#E5ECF6",
           "caxis": {
            "gridcolor": "white",
            "linecolor": "white",
            "ticks": ""
           }
          },
          "title": {
           "x": 0.05
          },
          "xaxis": {
           "automargin": true,
           "gridcolor": "white",
           "linecolor": "white",
           "ticks": "",
           "title": {
            "standoff": 15
           },
           "zerolinecolor": "white",
           "zerolinewidth": 2
          },
          "yaxis": {
           "automargin": true,
           "gridcolor": "white",
           "linecolor": "white",
           "ticks": "",
           "title": {
            "standoff": 15
           },
           "zerolinecolor": "white",
           "zerolinewidth": 2
          }
         }
        },
        "xaxis": {
         "anchor": "y",
         "domain": [
          0,
          1
         ],
         "title": {
          "text": "0"
         }
        },
        "yaxis": {
         "anchor": "x",
         "domain": [
          0,
          1
         ],
         "title": {
          "text": "1"
         }
        }
       }
      }
     },
     "metadata": {},
     "output_type": "display_data"
    }
   ],
   "source": [
    "fig_2d = px.scatter(proj_2d, x=0, y=1, color=labels)\n",
    "fig_2d.show()"
   ]
  },
  {
   "cell_type": "markdown",
   "metadata": {},
   "source": [
    "Final thoughts on PCA vs non-PCA:\n",
    "Looking at our plots we can see that PCA helped KMeans eliminate overlapping datapoints.\n",
    "In UMAP we can also see that PCA helped tighten up our clusters."
   ]
  }
 ],
 "metadata": {
  "interpreter": {
   "hash": "bb8e10a506afe5171c1bcb549882c30203b96318badbee8c3ad0f5200b275f98"
  },
  "kernelspec": {
   "display_name": "Python 3.9.7 ('VisAn')",
   "language": "python",
   "name": "python3"
  },
  "language_info": {
   "codemirror_mode": {
    "name": "ipython",
    "version": 3
   },
   "file_extension": ".py",
   "mimetype": "text/x-python",
   "name": "python",
   "nbconvert_exporter": "python",
   "pygments_lexer": "ipython3",
   "version": "3.10.4"
  },
  "orig_nbformat": 4
 },
 "nbformat": 4,
 "nbformat_minor": 2
}
